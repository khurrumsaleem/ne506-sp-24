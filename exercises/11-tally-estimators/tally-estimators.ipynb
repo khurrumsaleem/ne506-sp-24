{
 "cells": [
  {
   "cell_type": "code",
   "execution_count": null,
   "id": "stock-copying",
   "metadata": {},
   "outputs": [],
   "source": [
    "import openmc\n",
    "from matplotlib import pyplot as plt\n",
    "import numpy as np"
   ]
  },
  {
   "cell_type": "markdown",
   "id": "enhanced-perth",
   "metadata": {},
   "source": [
    "# Tally Estimator Theory\n",
    "In this exercise, you will explore how a code like OpenMC calculates a meaningful final result using estimators and tallies. \n",
    "\n",
    "Please complete the following exercise on paper and/or in this notebook. For all problems, consider a geometry consisting of a sphere (radius 10 cm) centered at the origin. Assume the sphere is filled with a material having an atom density of 0.02 atoms/b.cm, a mass density of 1 g/cm3, and a heating value of $H(E)=E^2 \\ MeV-b$.\n",
    "\n",
    "# I. Single Track\n",
    "\n",
    "For a particle that travels from (-20,-15,-10) to (10,3,12) with energy 3 MeV:\n",
    "\n",
    "- What is the total score for an estimator of the particle current on the surface?\n",
    "- What is the total score for an estimator of the particle flux on the surface?\n",
    "- What is the total score for an estimator of the particle flux in the sphere?\n",
    "- What is the total score for an estimator of the particle energy deposition in the sphere?\n",
    "\n",
    "# II. Single Scatter\n",
    "\n",
    "A 4 MeV particle travels from (20,10,15) to (-7.5,-2.75,-2.45) and undergoes a collision where it loses 1/3 of its energy. The particle continues on to (-15, 9, 7).\n",
    "\n",
    "- What is the total score for an estimator of the particle current on the surface?\n",
    "- What is the total score for an estimator of the particle flux on the surface?\n",
    "- What is the total score for an estimator of the particle flux in the sphere?\n",
    "- What is the total score for an estimator of the particle energy deposition in the sphere?\n",
    "- What is the total score for a pulse height tally in the sphere?\n",
    "\n",
    "## III. General Single Scatter\n",
    "\n",
    "Now consider a generic single scattering event for a particle with energy, $E_o$, that travels from ($x_o$,$y_o$,$z_o$) to ($x_c$,$y_c$,$z_c$) and undergoes a collision where it loses $E_c$ of its energy and continues to ($x_f$,$y_f$,$z_f$). Write an expression for:\n",
    "\n",
    "- The total score for an estimator of the particle current on the surface?\n",
    "- The total score for an estimator of the particle flux on the surface?\n",
    "- The total score for an estimator of the particle flux in the sphere?\n",
    "- The total score for an estimator of the particle energy deposition in the sphere?\n",
    "- The total score for a pulse height tally in the sphere?\n",
    "\n",
    "**Note: Assume that ($x_o$, $y_o$, $z_o$) and ($x_f$, $y_f$, $z_f$) are outside the sphere and ($x_c$, $y_c$, $z_c$) is inside the sphere.**\n",
    "\n",
    "## IV. Tally Estimator Routine\n",
    "\n",
    "Each row of the attached CSV file represents (in this order):\n",
    "\n",
    "- the starting position of the track ($x_o$, $y_o$, $z_o$)\n",
    "- the initial energy ($E_o$)\n",
    "- the collision site ($x_c$, $y_c$, $z_c$)\n",
    "- energy lost in the collision ($E_c$)\n",
    "- the final position of the particle ($x_f$, $y_f$, $z_f$)\n",
    "\n",
    "for a single history.  Note that $E_c$ indicates the amount of energy lost in collision (not the final energy). Write a function script to read these (hint: check out the [`csv` module](https://docs.python.org/3/library/csv.html)) and calculate the scores as derived in Part III. This set of scores will represent an underlying PDF for the corresponding tally in this problem. For each tally provide:\n",
    "\n",
    "- a histogram of the population of scores for each tally type\n",
    "- the mean value for each tally type\n",
    "- the relative error for each tally type\n",
    "\n",
    "Please submit your work in a zip file named <last_name>_exercise11.ipynb"
   ]
  },
  {
   "cell_type": "code",
   "execution_count": null,
   "id": "faced-notice",
   "metadata": {},
   "outputs": [],
   "source": []
  }
 ],
 "metadata": {
  "kernelspec": {
   "display_name": "Python 3",
   "language": "python",
   "name": "python3"
  },
  "language_info": {
   "codemirror_mode": {
    "name": "ipython",
    "version": 3
   },
   "file_extension": ".py",
   "mimetype": "text/x-python",
   "name": "python",
   "nbconvert_exporter": "python",
   "pygments_lexer": "ipython3",
   "version": "3.9.2"
  }
 },
 "nbformat": 4,
 "nbformat_minor": 5
}
