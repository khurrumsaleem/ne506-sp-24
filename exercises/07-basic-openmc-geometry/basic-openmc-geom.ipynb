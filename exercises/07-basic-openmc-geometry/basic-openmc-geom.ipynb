{
 "cells": [
  {
   "cell_type": "code",
   "execution_count": 1,
   "metadata": {},
   "outputs": [],
   "source": [
    "import openmc\n",
    "from matplotlib import pyplot as plt\n",
    "import numpy as np"
   ]
  },
  {
   "cell_type": "markdown",
   "metadata": {},
   "source": [
    "# Basic OpenMC Geometry\n",
    "\n",
    "In this exercise, you will create an OpenMC geometry that resembles an ice cream cone that is missing a chunk.\n",
    "\n",
    "1. Create the following three surfaces:\n",
    "    - Sphere: (x, y, z) = (0, 0, 0) , R = 5\n",
    "    - Cone: vertex (x, y, z) = (0, 0, -18), θ = 15°\n",
    "    - Plane: z = 0\n",
    "\n",
    "2. Create a region inside the cone and below the plane.  Create a cell that uses this region, add the cell to a new universe, and plot the universe.\n",
    "\n",
    "![](ice_cream_cone.png)\n",
    "\n",
    "3. Create another region that is the inside of the sphere and make a new cell that uses this region. Add this cell to the universe and re-plot.\n",
    "\n",
    "![](cone_sphere.png)\n",
    "\n",
    "4. Create two more surfaces:\n",
    "    - Plane: z = 2\n",
    "    - Plane: x = 0\n",
    "5. Redefine the spherical cell to create a single region that is missing a piece.\n",
    "\n",
    "![](cone_sphere_planes.png)\n",
    "\n",
    "Please submit your input file in a zip file named <last_name>_exercise7.ipynb."
   ]
  }
 ],
 "metadata": {
  "kernelspec": {
   "display_name": "Python 3",
   "language": "python",
   "name": "python3"
  },
  "language_info": {
   "codemirror_mode": {
    "name": "ipython",
    "version": 3
   },
   "file_extension": ".py",
   "mimetype": "text/x-python",
   "name": "python",
   "nbconvert_exporter": "python",
   "pygments_lexer": "ipython3",
   "version": "3.9.2"
  }
 },
 "nbformat": 4,
 "nbformat_minor": 2
}
