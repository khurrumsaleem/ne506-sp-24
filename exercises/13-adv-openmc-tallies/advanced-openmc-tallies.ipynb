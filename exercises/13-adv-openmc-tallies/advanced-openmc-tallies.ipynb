{
 "cells": [
  {
   "cell_type": "markdown",
   "id": "referenced-moisture",
   "metadata": {},
   "source": [
    "# Advanced OpenMC Tallies\n",
    "\n",
    "All of these examples will use the the PWR assembly model provided by the `openmc.examples` module. We will use a power level for the assembly of 86.7 $\\frac{kW}{cm}$ (this is a 2D model). Using this model, perform the following tasks:\n",
    "\n",
    "1. Find the cell filled with the fuel material (uranium oxide) used in the lattice on the model. Hint: this cell is filled with a material named \"Fuel\".\n",
    "2. Tally the power produced by each fuel_cell in the assembly and plot them using the `plot_power` function provided below.\n",
    "3. Change the lower x and y planes of the model from a reflecting boundary condition to a vacuum boundary condition.\n",
    "4. Use a `MeshFilter` with 85, 85, and 1 element in x, y, and z dimensions respectively to plot the new flux distribution of the assembly with `plt.imshow`.\n",
    "5. Create a tally using the `MeshFilter` from the previous task to tally the flux. Include a `MaterialFilter` for all materials in the problem. Plot the power for the fuel material only using `plt.imshow`.\n",
    "6. Use a `ZernikeFilter` of order 10 over the pincell at the center of the assembly (centered on the origin). You'll need to determine the radius of this fuel cell by examining it's `region` attribute. Apply this filter to a tally for the power. Increase the number of particles per batch to 1M particles and re-run the simulation.\n",
    "7. Plot the angular distribution of the flux for the center pin using the `plot_radial` function provided below. What do you observe about the power distribution?"
   ]
  },
  {
   "cell_type": "markdown",
   "id": "closing-twelve",
   "metadata": {},
   "source": [
    "Some methods of the `openmc.Geometry` class on the `model` below that will be useful in this exercise:\n",
    "\n",
    "  - `Geometry.get_all_lattices`: returns a dict of all lattices w/ their IDs as keys\n",
    "  - `Geometry.get_all_material_cells`: returns a dict of all cells filled with materials w/ their IDs as keys\n",
    "\n",
    "Other tips:\n",
    "\n",
    "  - the `Region.get_surfaces` method will retrieve surfaces of a cell's `region` attribute. (i.e. `cell.region.get_surfaces`)\n",
    "  - the attributes of the `Tally` class (`filters`, `scores`, `nuclides`) either inherit from the `list` type or _are_ a `list` and as a result support `list` operations (i.e. `append`, `pop`, indexing, etc.)"
   ]
  },
  {
   "cell_type": "code",
   "execution_count": null,
   "id": "later-isolation",
   "metadata": {},
   "outputs": [],
   "source": [
    "import openmc\n",
    "from matplotlib import pyplot as plt\n",
    "import numpy as np"
   ]
  },
  {
   "cell_type": "code",
   "execution_count": null,
   "id": "advanced-territory",
   "metadata": {},
   "outputs": [],
   "source": [
    "model = openmc.examples.pwr_assembly()\n",
    "model.settings.particles = 100_000\n",
    "model.settings.batches = 50\n",
    "model.settings.inactive = 10\n",
    "model.geometry.plot(pixels=(600, 600))\n",
    "plt.show()"
   ]
  },
  {
   "cell_type": "code",
   "execution_count": null,
   "id": "4a2cc076",
   "metadata": {},
   "outputs": [],
   "source": [
    "import openmc.lib\n",
    "\n",
    "def plot_power(model, cell, power_data, pixels=(600, 600)):\n",
    "    \"\"\"\n",
    "\n",
    "    Parameters\n",
    "    ----------\n",
    "\n",
    "    model : openmc.Model\n",
    "        Model used to determine pixel values for the plot\n",
    "    power_tally : openmc.Tally\n",
    "        Tally object containing power data (ordered by cell instances)\n",
    "\n",
    "    Returns\n",
    "    -------\n",
    "    id_mapping : numpy.ndarray\n",
    "        Mapping of cell IDs and instances to pixel values\n",
    "    \"\"\"\n",
    "\n",
    "    try:\n",
    "        openmc.lib.init()\n",
    "        bbox = openmc.lib.global_bounding_box()\n",
    "        p = openmc.lib.plot._PlotBase()\n",
    "        p.origin = (0.0, 0.0, 0.0)\n",
    "        p.width = bbox[1][0] - bbox[0][0]\n",
    "        p.height = bbox[1][1] - bbox[0][1]\n",
    "        p.h_res = pixels[0]\n",
    "        p.v_res = pixels[1]\n",
    "        p.color_by = 'cell'\n",
    "        p.basis = 'xy'\n",
    "\n",
    "        id_mapping = openmc.lib.id_map(p)\n",
    "    finally:\n",
    "        openmc.lib.finalize()\n",
    "\n",
    "    # index into mapping for cell ID and instance\n",
    "\n",
    "    image = np.nan * np.ones((pixels[0], pixels[1]))\n",
    "    heating_mask = id_mapping[..., 0] == cell.id\n",
    "    # populate image with instance values for the cell\n",
    "    image[heating_mask] = id_mapping[heating_mask, 1]\n",
    "\n",
    "    # replace instance values with power values\n",
    "    for i, p in enumerate(power_data):\n",
    "        image[image == i] = p\n",
    "\n",
    "    plt.imshow(image, origin='lower', cmap='jet', extent=(bbox[0][0], bbox[1][0], bbox[0][1], bbox[1][1]))\n",
    "    plt.colorbar(label='Power (W/cm)')\n",
    "    plt.xlabel('X [cm]')\n",
    "    plt.ylabel('Y [cm]')\n",
    "    plt.show()"
   ]
  },
  {
   "cell_type": "code",
   "execution_count": null,
   "id": "25935345",
   "metadata": {},
   "outputs": [],
   "source": [
    "def plot_radial(z_n, radius):\n",
    "    \"\"\"\n",
    "\n",
    "    Parameters\n",
    "    ----------\n",
    "\n",
    "    z_n : Iterable of float\n",
    "        The Zernike radial polynomial coefficients.\n",
    "    radius : float\n",
    "        The radius of the polynomial domain.\n",
    "\n",
    "    \"\"\"\n",
    "    zz = openmc.Zernike(z_n, radius=radius)\n",
    "    # Using linspace so that the endpoint of 360 is included...\n",
    "    azimuths = np.radians(np.linspace(0, 360, 50))\n",
    "    zeniths = np.linspace(0, radius, 100)\n",
    "    r, theta = np.meshgrid(zeniths, azimuths)\n",
    "    values = zz(zeniths, azimuths)\n",
    "    fig, ax = plt.subplots(subplot_kw=dict(projection='polar'))\n",
    "    ax.contourf(theta, r, values, cmap='jet')\n",
    "    plt.show()"
   ]
  },
  {
   "cell_type": "markdown",
   "id": "2f90aeb0",
   "metadata": {},
   "source": [
    "### Part 1: Find the cell containing the fuel material."
   ]
  },
  {
   "cell_type": "code",
   "execution_count": null,
   "id": "01d61fdf",
   "metadata": {},
   "outputs": [],
   "source": [
    "fuel_material = None\n",
    "for material in model.materials:\n",
    "    \"YOUR CODE HERE\"\n",
    "print(fuel_material)"
   ]
  },
  {
   "cell_type": "code",
   "execution_count": null,
   "id": "292455f1",
   "metadata": {},
   "outputs": [],
   "source": [
    "fuel_cell = None\n",
    "for cell in model.geometry.get_all_material_cells().values():\n",
    "    if cell.fill == \"YOUR CODE HERE\":\n",
    "        fuel_cell = cell\n",
    "print(fuel_cell)"
   ]
  },
  {
   "cell_type": "markdown",
   "id": "6f963112",
   "metadata": {},
   "source": [
    "### Part 2: Create a power tally for the fuel cell, determine the power produced by each instance of the fuel cell, and plot the power using the `plot_power` function."
   ]
  },
  {
   "cell_type": "code",
   "execution_count": null,
   "id": "c7ac13a1",
   "metadata": {},
   "outputs": [],
   "source": [
    "\n",
    "pin_heating_tally = openmc.Tally()\n",
    "distribcell_filter = \"YOUR CODE HERE\"\n",
    "pin_heating_tally.filters = [distribcell_filter]\n",
    "pin_heating_tally.scores = ['heating']\n",
    "\n",
    "total_heating_tally = openmc.Tally()\n",
    "total_heating_tally.scores = \"YOUR CODE HERE\"\n",
    "\n",
    "model.tallies = [pin_heating_tally, total_heating_tally]\n",
    "\n",
    "sp_file = model.run()"
   ]
  },
  {
   "cell_type": "code",
   "execution_count": null,
   "id": "6aa7d615",
   "metadata": {},
   "outputs": [],
   "source": [
    "with openmc.StatePoint(sp_file) as sp:\n",
    "    pin_heating_tally_results = sp.tallies[pin_heating_tally.id]\n",
    "    total_heating_tally = sp.tallies[total_heating_tally.id]\n",
    "\n",
    "\"YOUR CODE HERE\"\n",
    "print(pin_powers)"
   ]
  },
  {
   "cell_type": "code",
   "execution_count": null,
   "id": "cb397084",
   "metadata": {},
   "outputs": [],
   "source": [
    "plot_power(model, fuel_cell, pin_powers, pixels=(600, 600))"
   ]
  },
  {
   "cell_type": "code",
   "execution_count": null,
   "id": "valued-despite",
   "metadata": {},
   "outputs": [],
   "source": [
    "model.geometry.root_universe.cells"
   ]
  },
  {
   "cell_type": "code",
   "execution_count": null,
   "id": "romance-constitution",
   "metadata": {},
   "outputs": [],
   "source": [
    "root_cell = list(model.geometry.root_universe.cells.values())[0]\n",
    "surfaces = \"YOUR CODE HERE\"\n",
    "print(surfaces)"
   ]
  },
  {
   "cell_type": "code",
   "execution_count": null,
   "id": "arbitrary-gentleman",
   "metadata": {},
   "outputs": [],
   "source": [
    "# set two of the surface boundary conditions to vacuum\n",
    "for surface in surfaces.values():\n",
    "    \"YOUR CODE HERE\""
   ]
  },
  {
   "cell_type": "code",
   "execution_count": null,
   "id": "77edf7b0",
   "metadata": {},
   "outputs": [],
   "source": [
    "print(surfaces)"
   ]
  },
  {
   "cell_type": "markdown",
   "id": "345456ec",
   "metadata": {},
   "source": [
    "### Part 4: Use a MeshFilter to get the flux distribution"
   ]
  },
  {
   "cell_type": "code",
   "execution_count": null,
   "id": "176ab451",
   "metadata": {},
   "outputs": [],
   "source": [
    "\"YOUR CODE HERE\" # determine bounds of the model\n",
    "\n",
    "mesh = openmc.RegularMesh()\n",
    "mesh.lower_left = \"YOUR CODE HERE\"\n",
    "mesh.upper_right = \"YOUR CODE HERE\"\n",
    "mesh.dimension = \"YOUR CODE HERE\"\n",
    "\n",
    "mesh_filter = \"YOUR CODE HERE\"\n",
    "mesh_tally = openmc.Tally()\n",
    "mesh_tally.filters = [mesh_filter]\n",
    "mesh_tally.scores = ['flux']\n",
    "\n",
    "model.tallies = [mesh_tally]\n",
    "\n",
    "sp_file = model.run()\n"
   ]
  },
  {
   "cell_type": "code",
   "execution_count": null,
   "id": "ca72a5ca",
   "metadata": {},
   "outputs": [],
   "source": [
    "with openmc.StatePoint(sp_file) as sp:\n",
    "    mesh_tally_results = sp.tallies[mesh_tally.id]\n",
    "\n",
    "# isolate the mesh data and reshape it for visualization appropriately\n",
    "\"YOUR CODE HERE\"\n",
    "flux = \"YOUR CODE HERE\"\n",
    "plt.imshow(flux, origin='lower')\n",
    "plt.colorbar(label='Flux')\n",
    "plt.xlabel('X [cm]')\n",
    "plt.ylabel('Y [cm]')\n",
    "plt.show()\n"
   ]
  },
  {
   "cell_type": "markdown",
   "id": "f7e06da7",
   "metadata": {},
   "source": [
    "### Part 5: Add a material filter and plot power of fuel material"
   ]
  },
  {
   "cell_type": "code",
   "execution_count": null,
   "id": "012fa4fe",
   "metadata": {},
   "outputs": [],
   "source": [
    "materials = model.materials\n",
    "\"YOUR CODE HERE\"\n",
    "sp_file = model.run()\n"
   ]
  },
  {
   "cell_type": "code",
   "execution_count": null,
   "id": "2ee77e41",
   "metadata": {},
   "outputs": [],
   "source": [
    "with openmc.StatePoint(sp_file) as sp:\n",
    "    mesh_tally_results = sp.tallies[mesh_tally.id]\n",
    "\n",
    "# get results only the  fuel material\n",
    "flux_fuel = mesh_tally_results.get_values(\"YOUR CODE HERE\")\n",
    "# reshape for visualization\n",
    "flux_fuel_image = \"YOUR CODE HERE\"\n",
    "plt.imshow(flux_fuel_image, origin='lower')\n",
    "plt.colorbar(label='Flux')\n",
    "plt.xlabel('X [cm]')\n",
    "plt.ylabel('Y [cm]')\n",
    "plt.show()"
   ]
  },
  {
   "cell_type": "markdown",
   "id": "bd035f54",
   "metadata": {},
   "source": [
    "### Part 6: Apply a ZernikeRadialFilter to the center pin domain"
   ]
  },
  {
   "cell_type": "code",
   "execution_count": null,
   "id": "a2dfbf5b",
   "metadata": {},
   "outputs": [],
   "source": [
    "# display fuel cell surfaces\n",
    "\"YOUR CODE HERE\""
   ]
  },
  {
   "cell_type": "code",
   "execution_count": null,
   "id": "local-expert",
   "metadata": {},
   "outputs": [],
   "source": [
    "order = \"YOUR CODE HERE\"\n",
    "radius = \"YOUR CODE HERE\" # cm\n",
    "cell_filter = openmc.CellFilter([fuel_cell])\n",
    "\n",
    "# Create a Zernike azimuthal polynomial expansion filter and add to tally\n",
    "flux_tally_zernike = openmc.Tally()\n",
    "flux_tally_zernike.scores = ['flux']\n",
    "zernike_filter = openmc.ZernikeFilter(\"YOUR CODE HERE\")\n",
    "flux_tally_zernike.filters = [zernike_filter]\n",
    "\n",
    "model.tallies = [flux_tally_zernike]\n",
    "model.settings.particles = 1_000_000\n",
    "\n",
    "sp_file = model.run()"
   ]
  },
  {
   "cell_type": "markdown",
   "id": "4016cbb4",
   "metadata": {},
   "source": [
    "### Part 7: Plot the result of the tally with the ZernikeFilter applied."
   ]
  },
  {
   "cell_type": "code",
   "execution_count": null,
   "id": "annual-musician",
   "metadata": {},
   "outputs": [],
   "source": [
    "with openmc.StatePoint(sp_file) as sp:\n",
    "    print(sp.tallies)\n",
    "    flux_tally_zernike_results = sp.tallies[flux_tally_zernike.id]\n"
   ]
  },
  {
   "cell_type": "code",
   "execution_count": null,
   "id": "intimate-scanning",
   "metadata": {},
   "outputs": [],
   "source": [
    "# extract the Zernike polynomial coefficients and plot\n",
    "z_n = \"YOUR CODE HERE\"\n",
    "plot_radial(z_n, radius)"
   ]
  }
 ],
 "metadata": {
  "kernelspec": {
   "display_name": "Python 3",
   "language": "python",
   "name": "python3"
  },
  "language_info": {
   "codemirror_mode": {
    "name": "ipython",
    "version": 3
   },
   "file_extension": ".py",
   "mimetype": "text/x-python",
   "name": "python",
   "nbconvert_exporter": "python",
   "pygments_lexer": "ipython3",
   "version": "3.9.2"
  }
 },
 "nbformat": 4,
 "nbformat_minor": 5
}
