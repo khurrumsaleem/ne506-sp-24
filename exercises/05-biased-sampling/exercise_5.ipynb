{
 "cells": [
  {
   "cell_type": "markdown",
   "id": "necessary-delivery",
   "metadata": {},
   "source": [
    "# In-class Exercise #5: Biased Random Sampling\n",
    "\n",
    "In past exercises, we have focused on random sampling from non-physical PDFs (i.e., the PDF data did not represent physical processes). In our previous Jupyter notebooks we have (1) produced many samples, and (2) demonstrated that our sampling strategy reproduced the original PDF over those many samples.  In today's exercise, we will review random sampling and apply those methods to a radiation transport example by hand (without using Python)\n",
    "\n",
    "Use the following sequence of random variables for this exercise:\n",
    "\n",
    "0.9626481925\\\n",
    "0.1227618356\\\n",
    "0.5706239180\\\n",
    "0.1398562868\\\n",
    "0.7786497595\\\n",
    "0.8016112435\\\n",
    "0.3398723816\\\n",
    "0.2447161499\\\n",
    "0.6639950426\\\n",
    "0.6072985488\n",
    "\n",
    "Your answers can be provided in this notebook or on paper. \n",
    "\n",
    "Please submit your work (photo of handwritten work, text document, notebook etc.) in a file named <last_name>_exercise5."
   ]
  },
  {
   "cell_type": "markdown",
   "id": "wireless-earthquake",
   "metadata": {},
   "source": [
    "## A. Sampling a source\n",
    "Imagine a neutron source that is approximated as a 3D isotropic point source at the origin.  The source energy follows a Normal probability density function, with a mean of 5 MeV and a standard deviation of 0.01 MeV.\n",
    "\n",
    "1. What kind of sampling would you use to sample the source direction?\n",
    "\n",
    "2. Generate a single sample of the direction and convert it to a normalized vector, (u, v, w). \n",
    "\n",
    "*Remember: The polar angle is not uniformly distributed! (See Theory Module 5: Advanced Random Sampling Techniques).*\n",
    "\n",
    "3. What kind of sampling would you use to sample the energy?\n",
    "4. Generate a single sample of the source energy."
   ]
  },
  {
   "cell_type": "markdown",
   "id": "funded-richmond",
   "metadata": {},
   "source": [
    "## B. Sampling a distance to a collision\n",
    "In an infinite medium, the probability of having a collision at a distance, s, has the form,\n",
    "\n",
    "$$ f(s) = e^{-\\mu s} $$\n",
    "\n",
    "1. What kind of sampling would you use to determine where the next collision occurs?\n",
    "2. Use random sampling to determine the position of the next collision (assuming the direction you sampled in Problem A.2 and $μ=0.5$ $cm^{-1}$)."
   ]
  },
  {
   "cell_type": "markdown",
   "id": "elder-humanity",
   "metadata": {},
   "source": [
    "## C. Collisions\n",
    "Imagine that 5 possible reactions could occur at any given collision, according to the following PDF:\n",
    "\n",
    "\n",
    "| Reaction Type | A | B\t| C | D\t| E |\n",
    "|-|-|-|-|-|-|\n",
    "|Probability | 0.17 | 0.32 | 0.05 | 0.39 | 0.07 |\n",
    " \n",
    "\n",
    "1. What kind of sampling would you use to determine which reaction occurs?\n",
    " \n",
    "2. Use random sampling to determine which kind of reaction occurs at the first collision."
   ]
  },
  {
   "cell_type": "markdown",
   "id": "related-lightning",
   "metadata": {},
   "source": [
    "## D. Post-Collision\n",
    "After the collision, the particle is emitted with an energy ratio, $ \\eta = \\frac{E_{out}}{E_{in}}$\n",
    ", that corresponds to this PDF:\n",
    "\n",
    "\n",
    "\n",
    "| Energy Ratio ($\\eta$) | $$ f(\\eta) $$|\n",
    "|:-|:-|\n",
    "|$$ 0 \\lt \\eta \\lt 0.22 $$ |0.64 |\n",
    "|$ 0.22 \\lt \\eta \\lt 0.37 $ |0.21 |\n",
    "|$ 0.37 \\lt \\eta \\lt 0.62 $ |0.97  |\n",
    "|$ 0.62 \\lt \\eta \\lt 0.79 $ |1.5 |\n",
    "|$ 0.79 \\lt \\eta \\lt 1.0 $ | 0.05 |\n",
    "\n",
    "<br/>\n",
    "\n",
    "1. What kind of sampling would you use to determine the energy ratio of the outgoing particle?\n",
    "2. Use random sampling to determine what the outgoing energy is, given the incident energy you sampled in question A.4."
   ]
  },
  {
   "cell_type": "markdown",
   "id": "animal-notebook",
   "metadata": {},
   "source": [
    "## E. Biased Sampling\n",
    "Imagine you are interested primarily in particles that go in the positive z direction, and would therefore like to sample particles in that direction 3 times as often as particles in the other direction.\n",
    "\n",
    "1. What is the biased probability distribution?\n",
    "\n",
    "2. What is the weight of particles that travel in the positive z-direction?\n",
    "3. What is the weight of particles that travel in the negative z-direction?\n",
    "4. What is the total weight of particles traveling in the positive z-direction?\n",
    "5. What is the total weight of particles traveling in the negative z-direction?"
   ]
  }
 ],
 "metadata": {
  "kernelspec": {
   "display_name": "Python 3",
   "language": "python",
   "name": "python3"
  },
  "language_info": {
   "codemirror_mode": {
    "name": "ipython",
    "version": 3
   },
   "file_extension": ".py",
   "mimetype": "text/x-python",
   "name": "python",
   "nbconvert_exporter": "python",
   "pygments_lexer": "ipython3",
   "version": "3.9.2"
  }
 },
 "nbformat": 4,
 "nbformat_minor": 5
}
