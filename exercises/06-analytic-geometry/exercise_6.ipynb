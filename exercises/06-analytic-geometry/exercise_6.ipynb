{
 "cells": [
  {
   "cell_type": "markdown",
   "id": "proper-liberia",
   "metadata": {},
   "source": [
    "# Analytic Geometry\n",
    "\n",
    "In this exercise, we will explore the details of tracking a particle through a two-dimensional analytic geometry. All parts of the exercise should be started on paper. Once the necessary relations are determined, you will use the Jupyter notebook to plot the curves and randomly sample the path of a particle as it moves through the geometry.\n",
    "\n",
    "Please submit your handwritten work and notebook file in a zip file named <last_name>_exercise6."
   ]
  },
  {
   "cell_type": "markdown",
   "id": "regional-vermont",
   "metadata": {},
   "source": [
    "## I. Surface specification\n",
    "\n",
    "On paper, create analytic expressions for:\n",
    "\n",
    "1. an ellipse (origin at (0,0)) whose minor axis is parallel to the y axis (full length 5 cm) and whose major axis is parallel to the x axis (full length 10 cm).\n",
    "2. a line with slope m = −0.6 and a vertical offset of 0.2 cm.\n",
    "3. a line that is parallel to the y axis with an offset of +3 cm along the x axis.\n",
    "4. a circle centered at (2.5,0) with a radius of 1 cm.\n",
    "\n",
    "Determine all the intersection points for these curves by hand. Plot each of these curves and their intersection points in the cells below."
   ]
  },
  {
   "cell_type": "code",
   "execution_count": null,
   "id": "mental-polymer",
   "metadata": {},
   "outputs": [],
   "source": []
  },
  {
   "cell_type": "markdown",
   "id": "electoral-synthesis",
   "metadata": {},
   "source": [
    "## II. Distance-to-boundary determination\n",
    "\n",
    "Use the geometry introduced in Part I.  A particle is born at the origin and travels at an angle of 10° relative to the positive x axis. Find all points at which it will cross the surfaces if it doesn't collide. \n",
    "\n",
    "Plot these points on the same figure as the position that was generated in Part I."
   ]
  },
  {
   "cell_type": "code",
   "execution_count": null,
   "id": "advance-secondary",
   "metadata": {},
   "outputs": [],
   "source": []
  },
  {
   "cell_type": "markdown",
   "id": "favorite-fountain",
   "metadata": {},
   "source": [
    "## III. Particle tracking\n",
    "\n",
    "This problem uses a different geometry than Parts I and II. Create an analytic expression for a circle that is centered at the origin, with a radius of 10 cm. Assume the circle is filled with a material whose linear attenuation coefficient, µ, is 0.5 cm-1. On paper, determine the following. \n",
    "\n",
    "1. Sample for the particle's emission angle assuming a 2D isotropic source (i.e., uniform distribution between 0 and 2π) positioned at the origin, \n",
    "2. Find the distance along this direction to the geometry boundary.  How many mean free paths is this?\n",
    "3. Sample the path length traveled by the particle prior to collision. How many mean free paths is this?\n",
    "4. Did the particle escape the cell?  If so, where did it exit?  If not, assume a scattering event takes place and sample for a new scattering angle assuming isotropic scattering.\n",
    "\n",
    "Now write a Python function program to accomplish each of the steps above. Your script should:\n",
    "\n",
    " - sample for source direction\n",
    " - calculate the distance to the boundary\n",
    " - sample for the distance to collision\n",
    " - sample for the scattering angle\n",
    "\n",
    "Use your code to track the particle until it exits the geometry.  Plot the particle's path as you track it.\n",
    "\n"
   ]
  },
  {
   "cell_type": "code",
   "execution_count": null,
   "id": "automotive-disaster",
   "metadata": {},
   "outputs": [],
   "source": []
  }
 ],
 "metadata": {
  "kernelspec": {
   "display_name": "Python 3",
   "language": "python",
   "name": "python3"
  },
  "language_info": {
   "codemirror_mode": {
    "name": "ipython",
    "version": 3
   },
   "file_extension": ".py",
   "mimetype": "text/x-python",
   "name": "python",
   "nbconvert_exporter": "python",
   "pygments_lexer": "ipython3",
   "version": "3.9.2"
  }
 },
 "nbformat": 4,
 "nbformat_minor": 5
}
