{
 "cells": [
  {
   "cell_type": "markdown",
   "metadata": {},
   "source": [
    "## Class Exercise: Day 2 - Probability and Statistics\n",
    "\n",
    "### Problem B: Analyzing the Data\n",
    "\n"
   ]
  },
  {
   "cell_type": "markdown",
   "metadata": {},
   "source": [
    "## Questions\n",
    "\n",
    " - Does the distribution of the mean values match your expectation\n",
    " based on your estimates of the standard error?\n",
    "\n",
    " - Would your expectations be better or worse matched if you divided\n",
    " the same sets of data into 40 equally sized sets instead of 20?\n"
   ]
  },
  {
   "cell_type": "code",
   "execution_count": null,
   "metadata": {},
   "outputs": [],
   "source": [
    "from matplotlib import pyplot as plt\n",
    "import numpy as np\n",
    "\n",
    "def problem_b(pdf, numSets, label):\n",
    "    \"\"\"\n",
    "    Calculate the mean and standard deviation of a vector of data sampled\n",
    "    from a PDF.\n",
    "    Divide that vector of data in subsets of equal size and calculate the\n",
    "    mean and standard deviation of each subset, as well as the standand\n",
    "    deviation of the set of mean values.\n",
    "\n",
    "    Parameters\n",
    "    ----------\n",
    "    pdf     - a vector of numbers that is the data\n",
    "    numSets - the number of subsets to analyze\n",
    "    label   - string to use when describing the data\n",
    "    \"\"\"\n",
    "\n",
    "    # B.1 Using all the data, calculate the mean value\n",
    "    size = pdf.size\n",
    "    mean =\n",
    "\n",
    "    # B.2 Using all the data, calculate the standard deviation\n",
    "    std_dev =\n",
    "\n",
    "    # B.3 Divide the data set into 20 equally sized subsets\n",
    "    subsets =\n",
    "\n",
    "    set_size =\n",
    "\n",
    "    # the mean of each subset provides an independent estimate of the\n",
    "    # mean of this PDF\n",
    "\n",
    "    # calculate the mean of each subset\n",
    "    means =\n",
    "\n",
    "    # the standard deviation of each subset provides an independent\n",
    "    # estimate of the standard deviation of this PDF\n",
    "\n",
    "    # calculate the standard deviation of the means of each subset\n",
    "    stds =\n",
    "\n",
    "    # the standard error can be determined in two ways:\n",
    "\n",
    "    # 1) by the relationship between the standard deviation and standard error\n",
    "    #    for a sample size N\n",
    "\n",
    "    # calculate the standard error of the means of each subset\n",
    "    stde =\n",
    "\n",
    "    # 2) by evaulating the standard deviation of a set of independent estimates\n",
    "    #    of the mean\n",
    "\n",
    "    # calculate the standard deviation of the subset means\n",
    "    stds_mean =\n",
    "    mean_std =\n",
    "\n",
    "    # Calculate the standard d\n",
    "    # eviation of the set of means\n",
    "    std_of_means\n",
    "\n",
    "    # Print the results\n",
    "    print(f'For PDF{label} data broken into {numSets} subsets:')\n",
    "    print(f'  Mean of entire data set: {mean}')\n",
    "    print(f'  Standard deviation of entire data set: {std_dev}')\n",
    "    print()\n",
    "    print(f'  Mean of means of subsets: {mean_std}')\n",
    "    print(f'  Standard deviation of means of subsets: {std_of_means}')\n",
    "\n",
    "    # Plot the results\n",
    "    plt.figure()\n",
    "    plt.hist(means, numSets)\n",
    "    plt.xlabel('Mean')\n",
    "    plt.ylabel('Frequency')\n",
    "    plt.show()\n"
   ]
  },
  {
   "cell_type": "code",
   "execution_count": null,
   "metadata": {},
   "outputs": [],
   "source": [
    "import numpy as np\n",
    "num_sets = 5\n",
    "pdf = np.fromfile('exercise2_data/pdfa.npy')\n",
    "problem_b(pdf, num_sets, 'A')\n",
    "pdf = np.fromfile('exercise2_data/pdfb.npy')\n",
    "problem_b(pdf, num_sets, 'B')\n",
    "pdf = np.fromfile('exercise2_data/pdfc.npy')\n",
    "problem_b(pdf, num_sets, 'C')"
   ]
  },
  {
   "cell_type": "markdown",
   "metadata": {},
   "source": []
  }
 ],
 "metadata": {
  "kernelspec": {
   "display_name": "Python 3 (ipykernel)",
   "language": "python",
   "name": "python3"
  },
  "language_info": {
   "codemirror_mode": {
    "name": "ipython",
    "version": 3
   },
   "file_extension": ".py",
   "mimetype": "text/x-python",
   "name": "python",
   "nbconvert_exporter": "python",
   "pygments_lexer": "ipython3",
   "version": "3.10.1"
  }
 },
 "nbformat": 4,
 "nbformat_minor": 4
}
