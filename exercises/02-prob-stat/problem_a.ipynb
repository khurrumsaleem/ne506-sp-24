{
 "cells": [
  {
   "cell_type": "markdown",
   "metadata": {},
   "source": [
    "## Class Exercise: Day 2 - Probability and Statistics\n",
    "\n",
    " Problem A: Load the data files\n",
    "\n",
    "\n",
    " Read a MAT-file containing a vector of data sampled from a PDF and\n",
    " determine its length, max and min.\n",
    " Plot the PDF in a figure with other PDF's as a histogram of 20 bins.\n",
    "\n",
    " Inputs: filename - string for the MAT-file to be loaded\n",
    "         label    - string to use when describing the data\n",
    "         figNum   - integer indicating to which figure this plot\n",
    "                    should be added\n",
    "         plotNum  - integer indicating which subplot this distribution\n",
    "                    is in the figure\n",
    "\n",
    " Outputs: pdf     - a vector of numbers that represent the data\n",
    "\n",
    "\n"
   ]
  },
  {
   "cell_type": "code",
   "execution_count": null,
   "metadata": {},
   "outputs": [],
   "source": [
    "from matplotlib import pyplot as plt\n",
    "import numpy as np\n",
    "\n",
    "def problem_A(filename, label):\n",
    "    \"\"\"\n",
    "    Parameters\n",
    "    ----------\n",
    "    filename - string for the MAT-file to be loaded\n",
    "\n",
    "    label    - string to use when describing the data\n",
    "\n",
    "    Returns\n",
    "    -------\n",
    "    An 1D array of numbers that represent the data\n",
    "    \"\"\"\n",
    "\n",
    "    pdf = np.fromfile(filename)\n",
    "\n",
    "    # A.1 Determine how many numbers are in the file\n",
    "    len =\n",
    "\n",
    "    # A.2 Determine the maximum and minimum values in the file\n",
    "    mx =\n",
    "    mn =\n",
    "\n",
    "    print(f'Distribution {filename} has {len} values between {mx} and {mn}')\n",
    "\n",
    "    # A.4 Plot a historgram of the frequency of the scores in 20 bins over a reasonable domain\n",
    "    plt.figure()\n",
    "    plt.title(label)\n",
    "    plt.hist(pdf, bins=20)\n",
    "    plt.show()\n",
    "\n",
    "\n"
   ]
  },
  {
   "cell_type": "code",
   "execution_count": null,
   "metadata": {},
   "outputs": [],
   "source": [
    "problem_A('/home/pshriwise/repos/ne506-spring-24/exercises/02-prob-stat/exercise2_data/pdfa.npy', 'pdfa')"
   ]
  }
 ],
 "metadata": {
  "kernelspec": {
   "display_name": "Python 3 (ipykernel)",
   "language": "python",
   "name": "python3"
  },
  "language_info": {
   "codemirror_mode": {
    "name": "ipython",
    "version": 3
   },
   "file_extension": ".py",
   "mimetype": "text/x-python",
   "name": "python",
   "nbconvert_exporter": "python",
   "pygments_lexer": "ipython3",
   "version": "3.10.1"
  }
 },
 "nbformat": 4,
 "nbformat_minor": 4
}
