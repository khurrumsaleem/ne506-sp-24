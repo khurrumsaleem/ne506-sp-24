{
 "cells": [
  {
   "cell_type": "markdown",
   "id": "armed-toddler",
   "metadata": {
    "slideshow": {
     "slide_type": "slide"
    }
   },
   "source": [
    "# Introduction to OpenMC"
   ]
  },
  {
   "cell_type": "markdown",
   "id": "acting-patch",
   "metadata": {
    "slideshow": {
     "slide_type": "slide"
    }
   },
   "source": [
    "## What is OpenMC?\n",
    "\n",
    "### Characteristics\n",
    "\n",
    "  - **open source** Monte Carlo particle transport code\n",
    "  - adopts best practices for software development\n",
    "      - version control (git), code review, con. integration testing, etc.\n",
    "  - ease of installation, minimal 3rd party software\n",
    "  - easy, fun to user\n",
    "  \n",
    "### Focus\n",
    "  - HPC platforms\n",
    "  - best physics models, when possible\n",
    "  - fostering a developer community\n"
   ]
  },
  {
   "cell_type": "markdown",
   "id": "departmental-fiction",
   "metadata": {
    "slideshow": {
     "slide_type": "slide"
    }
   },
   "source": [
    "## Feature Overview\n",
    "\n",
    "  - **Run Modes**: Fixed source, k-eigenvalue, volume, model plotting\n",
    "  - **Geometry**: constructive solid geometry (CSG), CAD-Based, unstructured mesh (tallies only)\n",
    "  - **Solvers**: Neutron and photon transport, depletion, stochastic volume calculation\n",
    "  - **Data**: Continuous energy or multigroup cross sections"
   ]
  },
  {
   "cell_type": "markdown",
   "id": "purple-vertex",
   "metadata": {},
   "source": [
    "# What makes OpenMC unique?\n",
    "\n",
    "  - Programming interfaces (C++/Python)\n",
    "  - Nuclear data interfaces and representation\n",
    "  - Tally abstractions\n",
    "  - Parallel Performance\n",
    "  - Development workflow and governance"
   ]
  },
  {
   "attachments": {},
   "cell_type": "markdown",
   "id": "cloudy-farmer",
   "metadata": {
    "slideshow": {
     "slide_type": "slide"
    }
   },
   "source": [
    "## Parallel Performance\n",
    "\n",
    "- ALCF Mira Super Computer (49,152 nodes; 786,432 cores; 3,145,728 threads)\n",
    "\n",
    "![](images/scaling_loglog.png)\n"
   ]
  },
  {
   "cell_type": "markdown",
   "id": "younger-harbor",
   "metadata": {},
   "source": [
    "# Example: Advanced Test Reactor\n",
    "\n",
    "![](images/atr.png)"
   ]
  },
  {
   "cell_type": "code",
   "execution_count": null,
   "id": "coupled-burden",
   "metadata": {},
   "outputs": [],
   "source": []
  },
  {
   "cell_type": "code",
   "execution_count": 1,
   "id": "cardiovascular-tumor",
   "metadata": {
    "slideshow": {
     "slide_type": "subslide"
    }
   },
   "outputs": [
    {
     "name": "stdout",
     "output_type": "stream",
     "text": [
      "<openmc.model.model.Model object at 0x7f22f0671460>\n"
     ]
    }
   ],
   "source": [
    "import openmc\n",
    "\n",
    "pwr_pincell = openmc.examples.pwr_pin_cell()\n",
    "print(pwr_pincell)"
   ]
  },
  {
   "cell_type": "markdown",
   "id": "level-simulation",
   "metadata": {
    "slideshow": {
     "slide_type": "slide"
    }
   },
   "source": [
    "# OpenMC Geometry"
   ]
  }
 ],
 "metadata": {
  "celltoolbar": "Slideshow",
  "kernelspec": {
   "display_name": "Python 3",
   "language": "python",
   "name": "python3"
  },
  "language_info": {
   "codemirror_mode": {
    "name": "ipython",
    "version": 3
   },
   "file_extension": ".py",
   "mimetype": "text/x-python",
   "name": "python",
   "nbconvert_exporter": "python",
   "pygments_lexer": "ipython3",
   "version": "3.9.2"
  }
 },
 "nbformat": 4,
 "nbformat_minor": 5
}
