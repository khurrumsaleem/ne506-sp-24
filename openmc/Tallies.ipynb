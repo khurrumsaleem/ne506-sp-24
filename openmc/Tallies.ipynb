{
 "cells": [
  {
   "cell_type": "markdown",
   "id": "87d52f49-f915-4ef9-8174-dff4e4abc4c3",
   "metadata": {
    "slideshow": {
     "slide_type": "slide"
    }
   },
   "source": [
    "# OpenMC Tallies"
   ]
  },
  {
   "cell_type": "markdown",
   "id": "886ae4d1-1a57-4bff-a372-4398de06b25a",
   "metadata": {
    "slideshow": {
     "slide_type": "fragment"
    }
   },
   "source": [
    "**Learning Objectives:**\n",
    "\n",
    "  - Understand application of filters and scores to create tallies\n",
    "  - Apply tallies to an OpenMC simulation\n",
    "  - Extract information from OpenMC statepoint files\n",
    "  - Understand tally units and normalization\n",
    "  - Plot basic tally results"
   ]
  },
  {
   "cell_type": "code",
   "execution_count": 2,
   "id": "11dc05ba-523c-4379-b293-a7a8e059312a",
   "metadata": {
    "slideshow": {
     "slide_type": "skip"
    }
   },
   "outputs": [],
   "source": [
    "import openmc\n",
    "import numpy as np\n",
    "from matplotlib import pyplot as plt"
   ]
  },
  {
   "cell_type": "markdown",
   "id": "bb1c4298-3506-4350-a690-d96a30a157e4",
   "metadata": {
    "slideshow": {
     "slide_type": "subslide"
    }
   },
   "source": [
    "In this module, we'll be looking at how to extract custom information from an OpenMC simulation in what is known as a tally. A tally accumulates statistical information during the simulation about particles when they eneter regions of phase space specified on the tally. The limits of these regions are set by filters applied to the tally. Scores and nuclides can also be applied to tallies to indicate what type of information is kept about the particle (e.g. reaction types, flux, heat, etc.)."
   ]
  },
  {
   "cell_type": "markdown",
   "id": "42c30480-d8c6-4ccf-b735-f72ca9cbeef1",
   "metadata": {
    "slideshow": {
     "slide_type": "subslide"
    }
   },
   "source": [
    "The tally capability in OpenMC takes a similar philosophy as that employed in the MC21 Monte Carlo code to give maximum flexibility in specifying tallies while still maintaining scalability. Any tally in OpenMC can be described with the following form:\n",
    "\n",
    "$$ \n",
    " X = \\underbrace{\\int d\\mathbf{r} \\int d\\mathbf{\\Omega} \\int\n",
    "    dE}_{\\text{filters}} \\underbrace{f(\\mathbf{r}, \\mathbf{\\Omega},\n",
    "    E)}_{\\text{scores}} \\psi (\\mathbf{r}, \\mathbf{\\Omega}, E)\n",
    "$$\n",
    "\n",
    "where filters set the limits of the integrals and the scoring function is convolved with particle information (e.g. reaction type, current material, etc.)."
   ]
  },
  {
   "cell_type": "markdown",
   "id": "f659ed74",
   "metadata": {
    "slideshow": {
     "slide_type": "subslide"
    }
   },
   "source": [
    "Tallies objects in OpenMC consist of three main components:\n",
    "\n",
    "  - Filters\n",
    "  - Scores\n",
    "  - Nuclides"
   ]
  },
  {
   "cell_type": "markdown",
   "id": "96c83771",
   "metadata": {
    "slideshow": {
     "slide_type": "subslide"
    }
   },
   "source": [
    "Creation of a tally object can be accomplished with the following. The tally filters, scores, and nuclides can be added after the fact."
   ]
  },
  {
   "cell_type": "code",
   "execution_count": null,
   "id": "a04b49bc",
   "metadata": {
    "slideshow": {
     "slide_type": "fragment"
    }
   },
   "outputs": [],
   "source": [
    "tally = openmc.Tally()"
   ]
  },
  {
   "cell_type": "markdown",
   "id": "79f23315",
   "metadata": {
    "slideshow": {
     "slide_type": "slide"
    }
   },
   "source": [
    "## Filters"
   ]
  },
  {
   "cell_type": "markdown",
   "id": "7f6c5b85",
   "metadata": {
    "slideshow": {
     "slide_type": "fragment"
    }
   },
   "source": [
    "There are a myriad of filters available in OpenMC that allow one to segment phase space. A full list of them can be found [here](https://docs.openmc.org/en/stable/pythonapi/base.html#pythonapi-tallies). Some of the most commonly used for basic tallies (and one's we'll explore in this module) are:\n",
    "\n",
    "- `openmc.CellFilter`: Tally events only if they occur in the specified cells.\n",
    "- `openmc.MaterialFilter`: Tally materials only if they occur in the specified materials.\n",
    "- `openmc.MeshFilter`: `Tally events in the elements of a super imposed mesh.\n",
    "- `openmc.EnergyFilter`: Tally events only if they occur in the given energy intervals.\n",
    "- `openmc.ParticleFilter`: Tally events for a specific particle type."
   ]
  },
  {
   "cell_type": "markdown",
   "id": "fed847fe",
   "metadata": {
    "slideshow": {
     "slide_type": "subslide"
    }
   },
   "source": [
    "When multiple filters are applied to a tally, the number of tally bins is the product of the number of bins for each filter. For example, if a `CellFilter` for 3 cells and an `EnergyFilter` with 2 energy intervals is applied, the tally will produce 6 pieces of information."
   ]
  },
  {
   "cell_type": "markdown",
   "id": "8f765021",
   "metadata": {
    "slideshow": {
     "slide_type": "subslide"
    }
   },
   "source": [
    "Multiple filters can be applied for the same integral limits in the equation above. For example, both a `CellFilter` and `MaterialFilter` can be applied to the sam etally object. If none of the materials specified on the `MaterialFilter` fill cells specified on the `CellFilter`, then the tally results will all be zero."
   ]
  },
  {
   "cell_type": "markdown",
   "id": "78f385a0",
   "metadata": {
    "slideshow": {
     "slide_type": "subslide"
    }
   },
   "source": [
    "Filters can be used on more than one tally. Each event (collision, surface crossing, etc.) in OpenMC is \"matched\" on any of the existing filters in the model. Matches are then used to apply event information to tally results as needed. This makes the reuse of filters on multiple tallies very efficient (the same `EnergyFilter` applied to a cell tally and a mesh tally, let's say)."
   ]
  },
  {
   "cell_type": "markdown",
   "id": "3bda8f05",
   "metadata": {
    "slideshow": {
     "slide_type": "slide"
    }
   },
   "source": [
    "## Scores"
   ]
  },
  {
   "cell_type": "markdown",
   "id": "0463e932",
   "metadata": {
    "slideshow": {
     "slide_type": "subslide"
    }
   },
   "source": [
    "Most tally scores in OpenMC can be specified using a set of the human-readable values listed [here](https://docs.openmc.org/en/stable/usersguide/tallies.html#scores). This is not an exaustive list of the tally scors available, as OpenMC supports scoring of any cross-section made available in the [ENDF MT system](https://t2.lanl.gov/nis/endf/mts.html)."
   ]
  },
  {
   "cell_type": "code",
   "execution_count": null,
   "id": "mighty-repeat",
   "metadata": {
    "slideshow": {
     "slide_type": "fragment"
    }
   },
   "outputs": [],
   "source": [
    "tally.scores = ['heating', 'fission', '(n,2n)', 444]"
   ]
  },
  {
   "cell_type": "markdown",
   "id": "483f8ae4",
   "metadata": {
    "slideshow": {
     "slide_type": "slide"
    }
   },
   "source": [
    "## Nuclides"
   ]
  },
  {
   "cell_type": "markdown",
   "id": "045a72b6",
   "metadata": {
    "slideshow": {
     "slide_type": "subslide"
    }
   },
   "source": [
    "Tally nuclides are most commonly use to separate collision events by nuclide to determine reaction rates for a specific nuclide. Combined with other filters, this can be used to identify reaction rates in specific regions of the model. By default, with no nuclides specified, the tally results represent events for any nuclide in the tally space. Conversely, the keyword \"all\" can be entered, which will create a tally entry for every nuclide specified in the model."
   ]
  },
  {
   "cell_type": "code",
   "execution_count": null,
   "id": "96cafb50",
   "metadata": {
    "slideshow": {
     "slide_type": "fragment"
    }
   },
   "outputs": [],
   "source": [
    "tally.nuclides = ['U235', 'U238']"
   ]
  },
  {
   "cell_type": "markdown",
   "id": "brilliant-wealth",
   "metadata": {
    "slideshow": {
     "slide_type": "slide"
    }
   },
   "source": [
    "## Tally Complexity"
   ]
  },
  {
   "cell_type": "markdown",
   "id": "54e1fe35",
   "metadata": {
    "slideshow": {
     "slide_type": "fragment"
    }
   },
   "source": [
    "Total number of bins in a tally:\n",
    "\n",
    "$$ N_{bins} =  \\underbrace{\\prod_{f}^{F} N_{f}}_{filters} \\times N_{scores} \\times N_{nuclides} $$"
   ]
  },
  {
   "cell_type": "markdown",
   "id": "married-female",
   "metadata": {
    "slideshow": {
     "slide_type": "slide"
    }
   },
   "source": [
    "## Tally Normalization"
   ]
  },
  {
   "cell_type": "markdown",
   "id": "2d7d7b9f",
   "metadata": {
    "slideshow": {
     "slide_type": "fragment"
    }
   },
   "source": [
    "All values produced by tallies in OpenMC (and generally in Monte Carlo codes) have units _per source particle_, meaning that some normalization factor is required to translate the output values into physical units. In the simplest case, sometimes true for a fixed source calculation, this normalization factor can be applied by setting the `Source.strength` property of the external sources appropriately. "
   ]
  },
  {
   "cell_type": "markdown",
   "id": "d96189b6",
   "metadata": {
    "slideshow": {
     "slide_type": "subslide"
    }
   },
   "source": [
    "In other cases, the source must be determined by other physical parameters. For example, in the case of an eigenvalue problem, the fission source rate is determined by the power, which is not an input parameter to the OpenMC simulation. Given a total fission rate (per source particle) and the total energy produced per fission event (per source particle) the fission source term can be determined as:\n",
    "\n",
    "$$ \\text{neutron source} [\\frac{n}{s}] = \\text{power} [\\frac{J}{s}] \\times \\frac{1}{1.6\\times 10^{-19}} [\\frac{eV}{J}] \\times \\frac{1}{\\text{energy per fission} [\\frac{eV}{fission}]} \\times \\frac{1}{\\text{fission rate} [\\frac{fission}{n\n",
    "}]}$$ "
   ]
  },
  {
   "cell_type": "markdown",
   "id": "aed0c7b3",
   "metadata": {
    "slideshow": {
     "slide_type": "subslide"
    }
   },
   "source": [
    "The energy released per fission and fission rate can be combined to describe the heat released per source particle, which is exactly the units of the heating tallies provided in OpenMC. This simplifies the source term to:\n",
    "\n",
    "\n",
    "$$ \\text{neutron source} [\\frac{n}{s}] = \\text{power} [\\frac{J}{s}] \\times \\frac{1}{1.6\\times 10^{-19}} [\\frac{eV}{J}] \\times \\frac{1}{\\text{heating} [\\frac{eV}{n}]}$$\n"
   ]
  },
  {
   "cell_type": "markdown",
   "id": "liable-period",
   "metadata": {
    "slideshow": {
     "slide_type": "slide"
    }
   },
   "source": [
    "## Postprocessing and Visualization"
   ]
  },
  {
   "cell_type": "markdown",
   "id": "113a28b4",
   "metadata": {
    "slideshow": {
     "slide_type": "subslide"
    }
   },
   "source": [
    "Tally results are written in two forms by OpenMC -- once in a \"tallies.out\" text file and in a binary form in the statpoint file. Tally information can be recovered using OpenMC's Python API."
   ]
  },
  {
   "cell_type": "code",
   "execution_count": null,
   "id": "a4463bf2",
   "metadata": {
    "slideshow": {
     "slide_type": "fragment"
    }
   },
   "outputs": [],
   "source": [
    "statepoint = openmc.StatePoint('statepoint.100.h5')"
   ]
  },
  {
   "cell_type": "markdown",
   "id": "094fa527",
   "metadata": {
    "slideshow": {
     "slide_type": "subslide"
    }
   },
   "source": [
    "The tally objects (with results applied) can be acccessed via the `Statepoint.tallies` attribute, which is a dictionary with tally IDs as the keys and the tally objects as the values."
   ]
  },
  {
   "cell_type": "code",
   "execution_count": null,
   "id": "e8f58a56",
   "metadata": {
    "slideshow": {
     "slide_type": "fragment"
    }
   },
   "outputs": [],
   "source": [
    "# retrieve the tally with ID 1\n",
    "tally = statepoint.tallies[1]"
   ]
  },
  {
   "cell_type": "markdown",
   "id": "74b52dfa",
   "metadata": {
    "slideshow": {
     "slide_type": "subslide"
    }
   },
   "source": [
    "Though it's often the case that the tally IDs are known, thhe `Statepoint.get_tally` method can be used to find tallies matched by filter, scores, etc."
   ]
  },
  {
   "cell_type": "code",
   "execution_count": null,
   "id": "f7f5943a",
   "metadata": {
    "slideshow": {
     "slide_type": "fragment"
    }
   },
   "outputs": [],
   "source": [
    "# retrieve a tally with the 'heating' score\n",
    "tally = statepoint.get_tally(scores=['heating'])"
   ]
  },
  {
   "cell_type": "markdown",
   "id": "b966dfc2",
   "metadata": {
    "slideshow": {
     "slide_type": "subslide"
    }
   },
   "source": [
    "Tally data can be gathered and examined in a number of ways. The mean and standard deviation of the tally can be accessed directly as attributes of the tally. These attribues are NumPy arrays with three dimensions corresponding to the filter bins, nuclide bins, and score bins, in order."
   ]
  },
  {
   "cell_type": "code",
   "execution_count": null,
   "id": "3caad0ba",
   "metadata": {
    "slideshow": {
     "slide_type": "fragment"
    }
   },
   "outputs": [],
   "source": [
    "tally.mean.shape"
   ]
  },
  {
   "cell_type": "markdown",
   "id": "baba2427",
   "metadata": {
    "slideshow": {
     "slide_type": "subslide"
    }
   },
   "source": [
    "The `Tally.get_values` method provides an option for downselecting data based on filter bins, nuclides, and scores."
   ]
  },
  {
   "cell_type": "code",
   "execution_count": 23,
   "id": "c654e400",
   "metadata": {
    "scrolled": true,
    "slideshow": {
     "slide_type": "fragment"
    }
   },
   "outputs": [
    {
     "name": "stdout",
     "output_type": "stream",
     "text": [
      "\u001b[0;31mSignature:\u001b[0m\n",
      "\u001b[0mtally\u001b[0m\u001b[0;34m.\u001b[0m\u001b[0mget_values\u001b[0m\u001b[0;34m(\u001b[0m\u001b[0;34m\u001b[0m\n",
      "\u001b[0;34m\u001b[0m    \u001b[0mscores\u001b[0m\u001b[0;34m=\u001b[0m\u001b[0;34m[\u001b[0m\u001b[0;34m]\u001b[0m\u001b[0;34m,\u001b[0m\u001b[0;34m\u001b[0m\n",
      "\u001b[0;34m\u001b[0m    \u001b[0mfilters\u001b[0m\u001b[0;34m=\u001b[0m\u001b[0;34m[\u001b[0m\u001b[0;34m]\u001b[0m\u001b[0;34m,\u001b[0m\u001b[0;34m\u001b[0m\n",
      "\u001b[0;34m\u001b[0m    \u001b[0mfilter_bins\u001b[0m\u001b[0;34m=\u001b[0m\u001b[0;34m[\u001b[0m\u001b[0;34m]\u001b[0m\u001b[0;34m,\u001b[0m\u001b[0;34m\u001b[0m\n",
      "\u001b[0;34m\u001b[0m    \u001b[0mnuclides\u001b[0m\u001b[0;34m=\u001b[0m\u001b[0;34m[\u001b[0m\u001b[0;34m]\u001b[0m\u001b[0;34m,\u001b[0m\u001b[0;34m\u001b[0m\n",
      "\u001b[0;34m\u001b[0m    \u001b[0mvalue\u001b[0m\u001b[0;34m=\u001b[0m\u001b[0;34m'mean'\u001b[0m\u001b[0;34m,\u001b[0m\u001b[0;34m\u001b[0m\n",
      "\u001b[0;34m\u001b[0m\u001b[0;34m)\u001b[0m\u001b[0;34m\u001b[0m\u001b[0;34m\u001b[0m\u001b[0m\n",
      "\u001b[0;31mDocstring:\u001b[0m\n",
      "Returns one or more tallied values given a list of scores, filters,\n",
      "filter bins and nuclides.\n",
      "\n",
      "This method constructs a 3D NumPy array for the requested Tally data\n",
      "indexed by filter bin, nuclide bin, and score index. The method will\n",
      "order the data in the array as specified in the parameter lists.\n",
      "\n",
      "Parameters\n",
      "----------\n",
      "scores : list of str\n",
      "    A list of one or more score strings\n",
      "    (e.g., ['absorption', 'nu-fission']; default is [])\n",
      "filters : Iterable of openmc.FilterMeta\n",
      "    An iterable of filter types\n",
      "    (e.g., [MeshFilter, EnergyFilter]; default is [])\n",
      "filter_bins : list of Iterables\n",
      "    A list of tuples of filter bins corresponding to the filter_types\n",
      "    parameter (e.g., [(1,), ((0., 0.625e-6),)]; default is []). Each\n",
      "    tuple contains bins for the corresponding filter type in the filters\n",
      "    parameter. Each bins is the integer ID for 'material', 'surface',\n",
      "    'cell', 'cellborn', and 'universe' Filters. Each bin is an integer\n",
      "    for the cell instance ID for 'distribcell' Filters. Each bin is a\n",
      "    2-tuple of floats for 'energy' and 'energyout' filters corresponding\n",
      "    to the energy boundaries of the bin of interest. The bin is an\n",
      "    (x,y,z) 3-tuple for 'mesh' filters corresponding to the mesh cell\n",
      "    of interest. The order of the bins in the list must correspond to\n",
      "    the filter_types parameter.\n",
      "nuclides : list of str\n",
      "    A list of nuclide name strings\n",
      "    (e.g., ['U235', 'U238']; default is [])\n",
      "value : str\n",
      "    A string for the type of value to return  - 'mean' (default),\n",
      "    'std_dev', 'rel_err', 'sum', or 'sum_sq' are accepted\n",
      "\n",
      "Returns\n",
      "-------\n",
      "float or numpy.ndarray\n",
      "    A scalar or NumPy array of the Tally data indexed in the order\n",
      "    each filter, nuclide and score is listed in the parameters.\n",
      "\n",
      "Raises\n",
      "------\n",
      "ValueError\n",
      "    When this method is called before the Tally is populated with data,\n",
      "    or the input parameters do not correspond to the Tally's attributes,\n",
      "    e.g., if the score(s) do not match those in the Tally.\n",
      "\u001b[0;31mFile:\u001b[0m      /usr/local/lib/python3.9/dist-packages/openmc/tallies.py\n",
      "\u001b[0;31mType:\u001b[0m      method"
     ]
    }
   ],
   "source": [
    "tally.get_values?"
   ]
  },
  {
   "cell_type": "markdown",
   "id": "343b9941",
   "metadata": {
    "slideshow": {
     "slide_type": "subslide"
    }
   },
   "source": [
    "Finally, tally information can be converted into a Pandas dataframe. While this is most useful for simple tallies, it's a convenient way to quickly format and plot data."
   ]
  },
  {
   "cell_type": "code",
   "execution_count": null,
   "id": "f8e42a48",
   "metadata": {
    "slideshow": {
     "slide_type": "fragment"
    }
   },
   "outputs": [
    {
     "data": {
      "text/html": [
       "<div>\n",
       "<style scoped>\n",
       "    .dataframe tbody tr th:only-of-type {\n",
       "        vertical-align: middle;\n",
       "    }\n",
       "\n",
       "    .dataframe tbody tr th {\n",
       "        vertical-align: top;\n",
       "    }\n",
       "\n",
       "    .dataframe thead th {\n",
       "        text-align: right;\n",
       "    }\n",
       "</style>\n",
       "<table border=\"1\" class=\"dataframe\">\n",
       "  <thead>\n",
       "    <tr style=\"text-align: right;\">\n",
       "      <th></th>\n",
       "      <th>material</th>\n",
       "      <th>nuclide</th>\n",
       "      <th>score</th>\n",
       "      <th>mean</th>\n",
       "      <th>std. dev.</th>\n",
       "    </tr>\n",
       "  </thead>\n",
       "  <tbody>\n",
       "    <tr>\n",
       "      <th>0</th>\n",
       "      <td>1</td>\n",
       "      <td>total</td>\n",
       "      <td>scatter</td>\n",
       "      <td>5.205780</td>\n",
       "      <td>0.011750</td>\n",
       "    </tr>\n",
       "    <tr>\n",
       "      <th>1</th>\n",
       "      <td>1</td>\n",
       "      <td>total</td>\n",
       "      <td>absorption</td>\n",
       "      <td>0.839049</td>\n",
       "      <td>0.005009</td>\n",
       "    </tr>\n",
       "    <tr>\n",
       "      <th>2</th>\n",
       "      <td>1</td>\n",
       "      <td>total</td>\n",
       "      <td>fission</td>\n",
       "      <td>0.471391</td>\n",
       "      <td>0.003075</td>\n",
       "    </tr>\n",
       "    <tr>\n",
       "      <th>3</th>\n",
       "      <td>2</td>\n",
       "      <td>total</td>\n",
       "      <td>scatter</td>\n",
       "      <td>1.487101</td>\n",
       "      <td>0.004985</td>\n",
       "    </tr>\n",
       "    <tr>\n",
       "      <th>4</th>\n",
       "      <td>2</td>\n",
       "      <td>total</td>\n",
       "      <td>absorption</td>\n",
       "      <td>0.010383</td>\n",
       "      <td>0.000115</td>\n",
       "    </tr>\n",
       "    <tr>\n",
       "      <th>5</th>\n",
       "      <td>2</td>\n",
       "      <td>total</td>\n",
       "      <td>fission</td>\n",
       "      <td>0.000000</td>\n",
       "      <td>0.000000</td>\n",
       "    </tr>\n",
       "    <tr>\n",
       "      <th>6</th>\n",
       "      <td>3</td>\n",
       "      <td>total</td>\n",
       "      <td>scatter</td>\n",
       "      <td>23.085675</td>\n",
       "      <td>0.105386</td>\n",
       "    </tr>\n",
       "    <tr>\n",
       "      <th>7</th>\n",
       "      <td>3</td>\n",
       "      <td>total</td>\n",
       "      <td>absorption</td>\n",
       "      <td>0.149060</td>\n",
       "      <td>0.001198</td>\n",
       "    </tr>\n",
       "    <tr>\n",
       "      <th>8</th>\n",
       "      <td>3</td>\n",
       "      <td>total</td>\n",
       "      <td>fission</td>\n",
       "      <td>0.000000</td>\n",
       "      <td>0.000000</td>\n",
       "    </tr>\n",
       "  </tbody>\n",
       "</table>\n",
       "</div>"
      ],
      "text/plain": [
       "   material nuclide       score     mean  std. dev.\n",
       "0         1   total     scatter 5.21e+00   1.17e-02\n",
       "1         1   total  absorption 8.39e-01   5.01e-03\n",
       "2         1   total     fission 4.71e-01   3.08e-03\n",
       "3         2   total     scatter 1.49e+00   4.99e-03\n",
       "4         2   total  absorption 1.04e-02   1.15e-04\n",
       "5         2   total     fission 0.00e+00   0.00e+00\n",
       "6         3   total     scatter 2.31e+01   1.05e-01\n",
       "7         3   total  absorption 1.49e-01   1.20e-03\n",
       "8         3   total     fission 0.00e+00   0.00e+00"
      ]
     },
     "metadata": {},
     "output_type": "display_data"
    }
   ],
   "source": [
    "statepoint = openmc.StatePoint('statepoint.100.h5')\n",
    "output_tally = statepoint.tallies[1]\n",
    "df = output_tally.get_pandas_dataframe()\n",
    "df"
   ]
  },
  {
   "cell_type": "markdown",
   "id": "21386f5d",
   "metadata": {
    "slideshow": {
     "slide_type": "slide"
    }
   },
   "source": [
    "## Tally Example"
   ]
  },
  {
   "cell_type": "markdown",
   "id": "4b8a8dd9",
   "metadata": {
    "slideshow": {
     "slide_type": "fragment"
    }
   },
   "source": [
    "A full example of a tally applied to the PWR pincell model provided in the `openmc.examples` module:"
   ]
  },
  {
   "cell_type": "code",
   "execution_count": 3,
   "id": "5e72c20d",
   "metadata": {
    "slideshow": {
     "slide_type": "subslide"
    }
   },
   "outputs": [
    {
     "data": {
      "image/png": "[encoded data removed]",
      "text/plain": [
       "<Figure size 516.129x519.481 with 1 Axes>"
      ]
     },
     "metadata": {},
     "output_type": "display_data"
    }
   ],
   "source": [
    "model = openmc.examples.pwr_pin_cell()\n",
    "material_colors = ('green', 'gray', 'blue')\n",
    "model.geometry.plot(pixels=(400, 400),\n",
    "                    color_by='material',\n",
    "                    colors={m: c for m, c in zip(model.materials, material_colors)},\n",
    "                    legend=True)\n",
    "plt.show()"
   ]
  },
  {
   "cell_type": "code",
   "execution_count": 6,
   "id": "67274f93",
   "metadata": {
    "slideshow": {
     "slide_type": "subslide"
    }
   },
   "outputs": [
    {
     "name": "stdout",
     "output_type": "stream",
     "text": [
      "                                %%%%%%%%%%%%%%%\n",
      "                           %%%%%%%%%%%%%%%%%%%%%%%%\n",
      "                        %%%%%%%%%%%%%%%%%%%%%%%%%%%%%%\n",
      "                      %%%%%%%%%%%%%%%%%%%%%%%%%%%%%%%%%%\n",
      "                    %%%%%%%%%%%%%%%%%%%%%%%%%%%%%%%%%%%%%%\n",
      "                   %%%%%%%%%%%%%%%%%%%%%%%%%%%%%%%%%%%%%%%%\n",
      "                                    %%%%%%%%%%%%%%%%%%%%%%%%\n",
      "                                     %%%%%%%%%%%%%%%%%%%%%%%%\n",
      "                 ###############      %%%%%%%%%%%%%%%%%%%%%%%%\n",
      "                ##################     %%%%%%%%%%%%%%%%%%%%%%%\n",
      "                ###################     %%%%%%%%%%%%%%%%%%%%%%%\n",
      "                ####################     %%%%%%%%%%%%%%%%%%%%%%\n",
      "                #####################     %%%%%%%%%%%%%%%%%%%%%\n",
      "                ######################     %%%%%%%%%%%%%%%%%%%%\n",
      "                #######################     %%%%%%%%%%%%%%%%%%\n",
      "                 #######################     %%%%%%%%%%%%%%%%%\n",
      "                 ######################     %%%%%%%%%%%%%%%%%\n",
      "                  ####################     %%%%%%%%%%%%%%%%%\n",
      "                    #################     %%%%%%%%%%%%%%%%%\n",
      "                     ###############     %%%%%%%%%%%%%%%%\n",
      "                       ############     %%%%%%%%%%%%%%%\n",
      "                          ########     %%%%%%%%%%%%%%\n",
      "                                      %%%%%%%%%%%\n",
      "\n",
      "                 | The OpenMC Monte Carlo Code\n",
      "       Copyright | 2011-2023 MIT, UChicago Argonne LLC, and contributors\n",
      "         License | https://docs.openmc.org/en/latest/license.html\n",
      "         Version | 0.14.0\n",
      "        Git SHA1 | fa2330103de61a864c958d1a7250f11e5dd91468\n",
      "       Date/Time | 2024-03-30 23:40:59\n",
      "   MPI Processes | 1\n",
      "  OpenMP Threads | 12\n",
      "\n",
      " Reading model XML file './model.xml' ...\n",
      " WARNING: Other XML file input(s) are present. These files may be ignored in\n",
      "          favor of the ./model.xml file.\n",
      " Reading cross sections XML file...\n",
      " Reading U234 from /root/nndc_hdf5/U234.h5\n",
      " Reading U235 from /root/nndc_hdf5/U235.h5\n",
      " Reading U238 from /root/nndc_hdf5/U238.h5\n",
      " Reading O16 from /root/nndc_hdf5/O16.h5\n",
      " Reading Zr90 from /root/nndc_hdf5/Zr90.h5\n",
      " Reading Zr91 from /root/nndc_hdf5/Zr91.h5\n",
      " Reading Zr92 from /root/nndc_hdf5/Zr92.h5\n",
      " Reading Zr94 from /root/nndc_hdf5/Zr94.h5\n",
      " Reading Zr96 from /root/nndc_hdf5/Zr96.h5\n",
      " Reading H1 from /root/nndc_hdf5/H1.h5\n",
      " Reading B10 from /root/nndc_hdf5/B10.h5\n",
      " Reading B11 from /root/nndc_hdf5/B11.h5\n",
      " Reading c_H_in_H2O from /root/nndc_hdf5/c_H_in_H2O.h5\n",
      " Minimum neutron data temperature: 294 K\n",
      " Maximum neutron data temperature: 294 K\n",
      " Preparing distributed cell instances...\n",
      " Writing summary.h5 file...\n",
      " Maximum neutron transport energy: 20000000 eV for U235\n",
      " Initializing source particles...\n",
      "\n",
      " ====================>     K EIGENVALUE SIMULATION     <====================\n",
      "\n",
      "  Bat./Gen.      k            Average k\n",
      "  =========   ========   ====================\n",
      "        1/1    1.17370\n",
      "        2/1    1.15031\n",
      "        3/1    1.15351\n",
      "        4/1    1.13910\n",
      "        5/1    1.17309\n",
      "        6/1    1.16464\n",
      "        7/1    1.13444    1.14954 +/- 0.01510\n",
      "        8/1    1.16279    1.15396 +/- 0.00977\n",
      "        9/1    1.15542    1.15433 +/- 0.00692\n",
      "       10/1    1.18059    1.15958 +/- 0.00750\n",
      " Creating state point statepoint.10.h5...\n",
      "\n",
      " =======================>     TIMING STATISTICS     <=======================\n",
      "\n",
      " Total time for initialization     = 3.6761e-01 seconds\n",
      "   Reading cross sections          = 3.1824e-01 seconds\n",
      " Total time in simulation          = 1.2981e+00 seconds\n",
      "   Time in transport only          = 1.1409e+00 seconds\n",
      "   Time in inactive batches        = 4.9153e-01 seconds\n",
      "   Time in active batches          = 8.0653e-01 seconds\n",
      "   Time synchronizing fission bank = 6.7167e-03 seconds\n",
      "     Sampling source sites         = 6.2427e-03 seconds\n",
      "     SEND/RECV source sites        = 3.7249e-04 seconds\n",
      "   Time accumulating tallies       = 1.0855e-01 seconds\n",
      "   Time writing statepoints        = 3.2471e-02 seconds\n",
      " Total time for finalization       = 1.9059e-03 seconds\n",
      " Total time elapsed                = 1.6873e+00 seconds\n",
      " Calculation Rate (inactive)       = 101724 particles/second\n",
      " Calculation Rate (active)         = 61993.7 particles/second\n",
      "\n",
      " ============================>     RESULTS     <============================\n",
      "\n",
      " k-effective (Collision)     = 1.16025 +/- 0.00684\n",
      " k-effective (Track-length)  = 1.15958 +/- 0.00750\n",
      " k-effective (Absorption)    = 1.16557 +/- 0.00266\n",
      " Combined k-effective        = 1.16798 +/- 0.00276\n",
      " Leakage Fraction            = 0.00000 +/- 0.00000\n",
      "\n"
     ]
    }
   ],
   "source": [
    "# create a filter for all materials\n",
    "material_filter = openmc.MaterialFilter(model.materials)\n",
    "\n",
    "tally = openmc.Tally()\n",
    "tally.filters = [material_filter]\n",
    "tally.scores = ['scatter', 'absorption', 'fission']\n",
    "\n",
    "model.tallies = [tally]\n",
    "\n",
    "statepoint_filename = model.run(particles=10000)"
   ]
  },
  {
   "cell_type": "code",
   "execution_count": 8,
   "id": "ab4d3756",
   "metadata": {
    "slideshow": {
     "slide_type": "subslide"
    }
   },
   "outputs": [
    {
     "data": {
      "text/html": [
       "<div>\n",
       "<style scoped>\n",
       "    .dataframe tbody tr th:only-of-type {\n",
       "        vertical-align: middle;\n",
       "    }\n",
       "\n",
       "    .dataframe tbody tr th {\n",
       "        vertical-align: top;\n",
       "    }\n",
       "\n",
       "    .dataframe thead th {\n",
       "        text-align: right;\n",
       "    }\n",
       "</style>\n",
       "<table border=\"1\" class=\"dataframe\">\n",
       "  <thead>\n",
       "    <tr style=\"text-align: right;\">\n",
       "      <th></th>\n",
       "      <th>material</th>\n",
       "      <th>nuclide</th>\n",
       "      <th>score</th>\n",
       "      <th>mean</th>\n",
       "      <th>std. dev.</th>\n",
       "    </tr>\n",
       "  </thead>\n",
       "  <tbody>\n",
       "    <tr>\n",
       "      <th>0</th>\n",
       "      <td>1</td>\n",
       "      <td>total</td>\n",
       "      <td>scatter</td>\n",
       "      <td>5.205780</td>\n",
       "      <td>0.011750</td>\n",
       "    </tr>\n",
       "    <tr>\n",
       "      <th>1</th>\n",
       "      <td>1</td>\n",
       "      <td>total</td>\n",
       "      <td>absorption</td>\n",
       "      <td>0.839049</td>\n",
       "      <td>0.005009</td>\n",
       "    </tr>\n",
       "    <tr>\n",
       "      <th>2</th>\n",
       "      <td>1</td>\n",
       "      <td>total</td>\n",
       "      <td>fission</td>\n",
       "      <td>0.471391</td>\n",
       "      <td>0.003075</td>\n",
       "    </tr>\n",
       "    <tr>\n",
       "      <th>3</th>\n",
       "      <td>2</td>\n",
       "      <td>total</td>\n",
       "      <td>scatter</td>\n",
       "      <td>1.487101</td>\n",
       "      <td>0.004985</td>\n",
       "    </tr>\n",
       "    <tr>\n",
       "      <th>4</th>\n",
       "      <td>2</td>\n",
       "      <td>total</td>\n",
       "      <td>absorption</td>\n",
       "      <td>0.010383</td>\n",
       "      <td>0.000115</td>\n",
       "    </tr>\n",
       "    <tr>\n",
       "      <th>5</th>\n",
       "      <td>2</td>\n",
       "      <td>total</td>\n",
       "      <td>fission</td>\n",
       "      <td>0.000000</td>\n",
       "      <td>0.000000</td>\n",
       "    </tr>\n",
       "    <tr>\n",
       "      <th>6</th>\n",
       "      <td>3</td>\n",
       "      <td>total</td>\n",
       "      <td>scatter</td>\n",
       "      <td>23.085675</td>\n",
       "      <td>0.105386</td>\n",
       "    </tr>\n",
       "    <tr>\n",
       "      <th>7</th>\n",
       "      <td>3</td>\n",
       "      <td>total</td>\n",
       "      <td>absorption</td>\n",
       "      <td>0.149060</td>\n",
       "      <td>0.001198</td>\n",
       "    </tr>\n",
       "    <tr>\n",
       "      <th>8</th>\n",
       "      <td>3</td>\n",
       "      <td>total</td>\n",
       "      <td>fission</td>\n",
       "      <td>0.000000</td>\n",
       "      <td>0.000000</td>\n",
       "    </tr>\n",
       "  </tbody>\n",
       "</table>\n",
       "</div>"
      ],
      "text/plain": [
       "   material nuclide       score     mean  std. dev.\n",
       "0         1   total     scatter 5.21e+00   1.17e-02\n",
       "1         1   total  absorption 8.39e-01   5.01e-03\n",
       "2         1   total     fission 4.71e-01   3.08e-03\n",
       "3         2   total     scatter 1.49e+00   4.99e-03\n",
       "4         2   total  absorption 1.04e-02   1.15e-04\n",
       "5         2   total     fission 0.00e+00   0.00e+00\n",
       "6         3   total     scatter 2.31e+01   1.05e-01\n",
       "7         3   total  absorption 1.49e-01   1.20e-03\n",
       "8         3   total     fission 0.00e+00   0.00e+00"
      ]
     },
     "execution_count": 8,
     "metadata": {},
     "output_type": "execute_result"
    }
   ],
   "source": [
    "statepoint = openmc.StatePoint(statepoint_filename)\n",
    "output_tally = statepoint.tallies[1]\n",
    "df = output_tally.get_pandas_dataframe()\n",
    "df"
   ]
  },
  {
   "cell_type": "code",
   "execution_count": 14,
   "id": "a41c7fd9",
   "metadata": {
    "slideshow": {
     "slide_type": "subslide"
    }
   },
   "outputs": [
    {
     "data": {
      "text/html": [
       "<div>\n",
       "<style scoped>\n",
       "    .dataframe tbody tr th:only-of-type {\n",
       "        vertical-align: middle;\n",
       "    }\n",
       "\n",
       "    .dataframe tbody tr th {\n",
       "        vertical-align: top;\n",
       "    }\n",
       "\n",
       "    .dataframe thead th {\n",
       "        text-align: right;\n",
       "    }\n",
       "</style>\n",
       "<table border=\"1\" class=\"dataframe\">\n",
       "  <thead>\n",
       "    <tr style=\"text-align: right;\">\n",
       "      <th></th>\n",
       "      <th>material</th>\n",
       "      <th>nuclide</th>\n",
       "      <th>score</th>\n",
       "      <th>mean</th>\n",
       "      <th>std. dev.</th>\n",
       "      <th>mat_name</th>\n",
       "    </tr>\n",
       "  </thead>\n",
       "  <tbody>\n",
       "    <tr>\n",
       "      <th>0</th>\n",
       "      <td>1</td>\n",
       "      <td>total</td>\n",
       "      <td>scatter</td>\n",
       "      <td>5.205780</td>\n",
       "      <td>0.011750</td>\n",
       "      <td>UO2 (2.4%)</td>\n",
       "    </tr>\n",
       "    <tr>\n",
       "      <th>1</th>\n",
       "      <td>1</td>\n",
       "      <td>total</td>\n",
       "      <td>absorption</td>\n",
       "      <td>0.839049</td>\n",
       "      <td>0.005009</td>\n",
       "      <td>UO2 (2.4%)</td>\n",
       "    </tr>\n",
       "    <tr>\n",
       "      <th>2</th>\n",
       "      <td>1</td>\n",
       "      <td>total</td>\n",
       "      <td>fission</td>\n",
       "      <td>0.471391</td>\n",
       "      <td>0.003075</td>\n",
       "      <td>UO2 (2.4%)</td>\n",
       "    </tr>\n",
       "    <tr>\n",
       "      <th>3</th>\n",
       "      <td>2</td>\n",
       "      <td>total</td>\n",
       "      <td>scatter</td>\n",
       "      <td>1.487101</td>\n",
       "      <td>0.004985</td>\n",
       "      <td>Zircaloy</td>\n",
       "    </tr>\n",
       "    <tr>\n",
       "      <th>4</th>\n",
       "      <td>2</td>\n",
       "      <td>total</td>\n",
       "      <td>absorption</td>\n",
       "      <td>0.010383</td>\n",
       "      <td>0.000115</td>\n",
       "      <td>Zircaloy</td>\n",
       "    </tr>\n",
       "    <tr>\n",
       "      <th>5</th>\n",
       "      <td>2</td>\n",
       "      <td>total</td>\n",
       "      <td>fission</td>\n",
       "      <td>0.000000</td>\n",
       "      <td>0.000000</td>\n",
       "      <td>Zircaloy</td>\n",
       "    </tr>\n",
       "    <tr>\n",
       "      <th>6</th>\n",
       "      <td>3</td>\n",
       "      <td>total</td>\n",
       "      <td>scatter</td>\n",
       "      <td>23.085675</td>\n",
       "      <td>0.105386</td>\n",
       "      <td>Hot borated water</td>\n",
       "    </tr>\n",
       "    <tr>\n",
       "      <th>7</th>\n",
       "      <td>3</td>\n",
       "      <td>total</td>\n",
       "      <td>absorption</td>\n",
       "      <td>0.149060</td>\n",
       "      <td>0.001198</td>\n",
       "      <td>Hot borated water</td>\n",
       "    </tr>\n",
       "    <tr>\n",
       "      <th>8</th>\n",
       "      <td>3</td>\n",
       "      <td>total</td>\n",
       "      <td>fission</td>\n",
       "      <td>0.000000</td>\n",
       "      <td>0.000000</td>\n",
       "      <td>Hot borated water</td>\n",
       "    </tr>\n",
       "  </tbody>\n",
       "</table>\n",
       "</div>"
      ],
      "text/plain": [
       "   material nuclide       score     mean  std. dev.           mat_name\n",
       "0         1   total     scatter 5.21e+00   1.17e-02         UO2 (2.4%)\n",
       "1         1   total  absorption 8.39e-01   5.01e-03         UO2 (2.4%)\n",
       "2         1   total     fission 4.71e-01   3.08e-03         UO2 (2.4%)\n",
       "3         2   total     scatter 1.49e+00   4.99e-03           Zircaloy\n",
       "4         2   total  absorption 1.04e-02   1.15e-04           Zircaloy\n",
       "5         2   total     fission 0.00e+00   0.00e+00           Zircaloy\n",
       "6         3   total     scatter 2.31e+01   1.05e-01  Hot borated water\n",
       "7         3   total  absorption 1.49e-01   1.20e-03  Hot borated water\n",
       "8         3   total     fission 0.00e+00   0.00e+00  Hot borated water"
      ]
     },
     "execution_count": 14,
     "metadata": {},
     "output_type": "execute_result"
    }
   ],
   "source": [
    "# get all materials from the geometry\n",
    "materials = model.geometry.get_all_materials()\n",
    "# set names based on matching material IDs\n",
    "for mat_id, material in materials.items():\n",
    "    df.loc[df['material'] == mat_id, 'mat_name'] = material.name\n",
    "df"
   ]
  },
  {
   "cell_type": "code",
   "execution_count": 18,
   "id": "642e17ed",
   "metadata": {
    "slideshow": {
     "slide_type": "subslide"
    }
   },
   "outputs": [
    {
     "data": {
      "image/png": "[encoded data removed]",
      "text/plain": [
       "<Figure size 640x480 with 1 Axes>"
      ]
     },
     "metadata": {},
     "output_type": "display_data"
    }
   ],
   "source": [
    "fission_df = df[df['score'] == 'fission']\n",
    "fission_df.plot('mat_name', 'mean', ylabel='fissions / src-particle', kind='bar', legend=False)\n",
    "plt.xticks(rotation=30, ha='right')\n",
    "plt.show()"
   ]
  },
  {
   "cell_type": "code",
   "execution_count": 19,
   "id": "8db3acf9",
   "metadata": {
    "slideshow": {
     "slide_type": "subslide"
    }
   },
   "outputs": [
    {
     "data": {
      "image/png": "[encoded data removed]",
      "text/plain": [
       "<Figure size 640x480 with 1 Axes>"
      ]
     },
     "metadata": {},
     "output_type": "display_data"
    }
   ],
   "source": [
    "scatter_df = df[df['score'] == 'scatter']\n",
    "scatter_df.plot('mat_name', 'mean', ylabel='scatters / src-particle', kind='bar', legend=False)\n",
    "plt.xticks(rotation=30, ha='right')\n",
    "plt.show()"
   ]
  },
  {
   "cell_type": "code",
   "execution_count": 20,
   "id": "d7236b84",
   "metadata": {
    "slideshow": {
     "slide_type": "subslide"
    }
   },
   "outputs": [
    {
     "data": {
      "image/png": "[encoded data removed]",
      "text/plain": [
       "<Figure size 640x480 with 1 Axes>"
      ]
     },
     "metadata": {},
     "output_type": "display_data"
    }
   ],
   "source": [
    "absorption_df = df[df['score'] == 'absorption']\n",
    "absorption_df.plot('mat_name', 'mean', ylabel='absorptions / src-particle', kind='bar', legend=False)\n",
    "plt.xticks(rotation=30, ha='right')\n",
    "plt.show()"
   ]
  }
 ],
 "metadata": {
  "celltoolbar": "Slideshow",
  "kernelspec": {
   "display_name": "Python 3",
   "language": "python",
   "name": "python3"
  }
 },
 "nbformat": 4,
 "nbformat_minor": 5
}
