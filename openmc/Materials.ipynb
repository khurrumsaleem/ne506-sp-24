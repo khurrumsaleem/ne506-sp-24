{
 "cells": [
  {
   "cell_type": "code",
   "execution_count": 1,
   "metadata": {
    "slideshow": {
     "slide_type": "skip"
    }
   },
   "outputs": [],
   "source": [
    "import openmc\n",
    "import numpy as np\n",
    "from matplotlib import pyplot as plt"
   ]
  },
  {
   "cell_type": "markdown",
   "metadata": {
    "slideshow": {
     "slide_type": "slide"
    }
   },
   "source": [
    "# OpenMC Materials\n",
    "\n",
    "In this module we'll look at defining materials in OpenMC\n",
    "\n",
    "Learning objectives:\n",
    "\n",
    "- Defining material compositions with multiple approaches\n",
    "- Plot material and nuclide cross sections"
   ]
  },
  {
   "cell_type": "markdown",
   "metadata": {
    "slideshow": {
     "slide_type": "subslide"
    }
   },
   "source": [
    "Materials are created using the `openmc.Material` class."
   ]
  },
  {
   "cell_type": "code",
   "execution_count": 2,
   "metadata": {
    "slideshow": {
     "slide_type": "fragment"
    }
   },
   "outputs": [],
   "source": [
    "uo2 = openmc.Material()"
   ]
  },
  {
   "cell_type": "markdown",
   "metadata": {
    "slideshow": {
     "slide_type": "subslide"
    }
   },
   "source": [
    "As with `Surface`'s and `Cell`'s,  material IDs are automatically assigned if one isn't provided with the material is created. No nuclides have been added to the material and no density is set."
   ]
  },
  {
   "cell_type": "code",
   "execution_count": 3,
   "metadata": {
    "slideshow": {
     "slide_type": "fragment"
    }
   },
   "outputs": [
    {
     "name": "stdout",
     "output_type": "stream",
     "text": [
      "Material\n",
      "\tID             =\t1\n",
      "\tName           =\t\n",
      "\tTemperature    =\tNone\n",
      "\tDensity        =\tNone [sum]\n",
      "\tVolume         =\tNone [cm^3]\n",
      "\tDepletable     =\tFalse\n",
      "\tS(a,b) Tables  \n",
      "\tNuclides       \n",
      "\n"
     ]
    }
   ],
   "source": [
    "print(uo2)"
   ]
  },
  {
   "cell_type": "markdown",
   "metadata": {
    "slideshow": {
     "slide_type": "subslide"
    }
   },
   "source": [
    "The `Material.add_nuclide` method is used to set the material's composition. Nuclides and elements are referenced using the [GNDS](https://www.oecd-nea.org/jcms/pl_39689/specifications-for-the-generalised-nuclear-database-structure-gnds) format (i.e. `H1` and `H1`, respectively). Nuclide components of the material can be specified by atom fraction (`'ao'`) or by weight fraction (`'wo'`).\n",
    "\n",
    " We'll create a material with the following specification:\n",
    "\n",
    "- UO2 at 10 g/cm3 with the composition\n",
    "    - U235 at 0.02115 w/o\n",
    "    - U238 at 0.86032 w/o\n",
    "    - O16 at 0.11852 w/o"
   ]
  },
  {
   "cell_type": "code",
   "execution_count": 4,
   "metadata": {
    "slideshow": {
     "slide_type": "fragment"
    }
   },
   "outputs": [],
   "source": [
    "uo2.add_nuclide('U235', 0.02115, 'wo')\n",
    "uo2.add_nuclide('U238', 0.86032, 'wo')\n",
    "uo2.add_nuclide('O16', 0.11852, 'wo')"
   ]
  },
  {
   "cell_type": "markdown",
   "metadata": {
    "slideshow": {
     "slide_type": "subslide"
    }
   },
   "source": [
    "Material densites are specified with the `Material.set_density` method. Densities can be set with a variety of units. Densities can be set with any of the units specified below. \n",
    "\n",
    "```\n",
    "The `sum` for density makes the assumption that all material nuclides are specified in units of `atom/b-cm`. Upon initialization for transport, OpenMC will sum the nuclide contributions to the material composition to represent the material density.\n",
    "```"
   ]
  },
  {
   "cell_type": "code",
   "execution_count": 5,
   "metadata": {
    "slideshow": {
     "slide_type": "fragment"
    }
   },
   "outputs": [
    {
     "name": "stdout",
     "output_type": "stream",
     "text": [
      "Help on method set_density in module openmc.material:\n",
      "\n",
      "set_density(units: 'str', density: 'Optional[float]' = None) method of openmc.material.Material instance\n",
      "    Set the density of the material\n",
      "    \n",
      "    Parameters\n",
      "    ----------\n",
      "    units : {'g/cm3', 'g/cc', 'kg/m3', 'atom/b-cm', 'atom/cm3', 'sum', 'macro'}\n",
      "        Physical units of density.\n",
      "    density : float, optional\n",
      "        Value of the density. Must be specified unless units is given as\n",
      "        'sum'.\n",
      "\n"
     ]
    }
   ],
   "source": [
    "uo2.set_density('g/cc', 10.0)\n",
    "help(uo2.set_density)"
   ]
  },
  {
   "cell_type": "markdown",
   "metadata": {
    "slideshow": {
     "slide_type": "subslide"
    }
   },
   "source": [
    "Nuclides can also be added to materials using the `Material.add_element` method, allowing one to specify a single element rather than a specific nuclide."
   ]
  },
  {
   "cell_type": "code",
   "execution_count": 6,
   "metadata": {
    "slideshow": {
     "slide_type": "fragment"
    }
   },
   "outputs": [],
   "source": [
    "water = openmc.Material()\n",
    "water.set_density('g/cc', 1.0)\n",
    "water.add_element('H', 2.0)\n",
    "water.add_element('O', 1.0)"
   ]
  },
  {
   "cell_type": "markdown",
   "metadata": {
    "slideshow": {
     "slide_type": "subslide"
    }
   },
   "source": [
    "In this case, OpenMC uses a combination of the natural abundancies of elements and the available set of nuclides in the [currrently configured nuclear data](https://docs.openmc.org/en/stable/usersguide/data.html#runtime-configuration) (i.e. the `openmc.config` object). The nuclear data is used to determine the nuclides to add and thier contributions to the material composition.\n",
    "\n",
    "To reiterate, the set of nuclides added is influenced by the nuclear data _at the time of the call to `Material.add_element`."
   ]
  },
  {
   "cell_type": "code",
   "execution_count": 7,
   "metadata": {
    "slideshow": {
     "slide_type": "fragment"
    }
   },
   "outputs": [
    {
     "name": "stdout",
     "output_type": "stream",
     "text": [
      "Material\n",
      "\tID             =\t2\n",
      "\tName           =\t\n",
      "\tTemperature    =\tNone\n",
      "\tDensity        =\t1.0 [g/cc]\n",
      "\tVolume         =\tNone [cm^3]\n",
      "\tDepletable     =\tFalse\n",
      "\tS(a,b) Tables  \n",
      "\tNuclides       \n",
      "\tH1             =\t1.99968852   [ao]\n",
      "\tH2             =\t0.00031148   [ao]\n",
      "\tO16            =\t0.999621     [ao]\n",
      "\tO17            =\t0.000379     [ao]\n",
      "\n"
     ]
    }
   ],
   "source": [
    "print(water)"
   ]
  },
  {
   "cell_type": "markdown",
   "metadata": {
    "slideshow": {
     "slide_type": "slide"
    }
   },
   "source": [
    "# Thermal Information"
   ]
  },
  {
   "cell_type": "markdown",
   "metadata": {
    "slideshow": {
     "slide_type": "subslide"
    }
   },
   "source": [
    "## Material Temperatures\n",
    "\n",
    "Material temperatures can be set by simply setting the `Material.temperature` attribute. **All temperatures set in OpenMC are in units of Kelvin.**"
   ]
  },
  {
   "cell_type": "code",
   "execution_count": 8,
   "metadata": {
    "slideshow": {
     "slide_type": "fragment"
    }
   },
   "outputs": [],
   "source": [
    "water.temperature = 600 # K"
   ]
  },
  {
   "cell_type": "markdown",
   "metadata": {
    "slideshow": {
     "slide_type": "subslide"
    }
   },
   "source": [
    "## Including Thermal Data\n",
    "\n",
    "OpenMC datasets include $S(\\alpha, \\beta)$ information related to cross-sections for thermalized neutrons to account for the effects of thermal motion of atoms in the media through which they move. This information can be added using the `Material.add_s_alpha_beta` method."
   ]
  },
  {
   "cell_type": "code",
   "execution_count": 9,
   "metadata": {
    "slideshow": {
     "slide_type": "fragment"
    }
   },
   "outputs": [
    {
     "name": "stdout",
     "output_type": "stream",
     "text": [
      "Help on method add_s_alpha_beta in module openmc.material:\n",
      "\n",
      "add_s_alpha_beta(name: 'str', fraction: 'float' = 1.0) method of openmc.material.Material instance\n",
      "    Add an :math:`S(\\alpha,\\beta)` table to the material\n",
      "    \n",
      "    Parameters\n",
      "    ----------\n",
      "    name : str\n",
      "        Name of the :math:`S(\\alpha,\\beta)` table\n",
      "    fraction : float\n",
      "        The fraction of relevant nuclei that are affected by the\n",
      "        :math:`S(\\alpha,\\beta)` table.  For example, if the material is a\n",
      "        block of carbon that is 60% graphite and 40% amorphous then add a\n",
      "        graphite :math:`S(\\alpha,\\beta)` table with fraction=0.6.\n",
      "\n"
     ]
    }
   ],
   "source": [
    "help(water.add_s_alpha_beta)\n",
    "water.add_s_alpha_beta('c_H_in_H20', 1.0)"
   ]
  },
  {
   "cell_type": "markdown",
   "metadata": {
    "slideshow": {
     "slide_type": "slide"
    }
   },
   "source": [
    "## Other ways to add nuclides and generate materials\n",
    "\n",
    "Materials can also be generated based on chemical formulae"
   ]
  },
  {
   "cell_type": "code",
   "execution_count": 10,
   "metadata": {
    "slideshow": {
     "slide_type": "fragment"
    }
   },
   "outputs": [
    {
     "name": "stdout",
     "output_type": "stream",
     "text": [
      "Material\n",
      "\tID             =\t3\n",
      "\tName           =\t\n",
      "\tTemperature    =\tNone\n",
      "\tDensity        =\t1.0 [g/cc]\n",
      "\tVolume         =\tNone [cm^3]\n",
      "\tDepletable     =\tFalse\n",
      "\tS(a,b) Tables  \n",
      "\tNuclides       \n",
      "\tH1             =\t0.66656284   [ao]\n",
      "\tH2             =\t0.00010382666666666666 [ao]\n",
      "\tO16            =\t0.333207     [ao]\n",
      "\tO17            =\t0.00012633333333333333 [ao]\n",
      "\n"
     ]
    }
   ],
   "source": [
    "water_again = openmc.Material()\n",
    "water_again.set_density('g/cc', 1.0)\n",
    "water_again.add_elements_from_formula('H2O')\n",
    "print(water_again)"
   ]
  },
  {
   "cell_type": "markdown",
   "metadata": {
    "slideshow": {
     "slide_type": "subslide"
    }
   },
   "source": [
    "Materials can also be mixed together to form new materials. Let's homogenize the water and fuel we've created together into a single material."
   ]
  },
  {
   "cell_type": "code",
   "execution_count": 11,
   "metadata": {
    "slideshow": {
     "slide_type": "fragment"
    }
   },
   "outputs": [],
   "source": [
    "# from the PWR pincell model in the openmc.examples module\n",
    "fuel_frac = 0.4572**2*np.pi / 1.26**2\n",
    "water_frac = 1 - fuel_frac\n",
    "mat_fracs = [fuel_frac, water_frac]\n",
    "mats = [uo2, water_again]\n",
    "pincell_mixture = openmc.Material.mix_materials(mats, mat_fracs)"
   ]
  },
  {
   "cell_type": "code",
   "execution_count": 12,
   "metadata": {
    "slideshow": {
     "slide_type": "subslide"
    }
   },
   "outputs": [
    {
     "name": "stdout",
     "output_type": "stream",
     "text": [
      "Material\n",
      "\tID             =\t4\n",
      "\tName           =\t(0.41363875844693687)-(0.5863612415530631)\n",
      "\tTemperature    =\tNone\n",
      "\tDensity        =\t5.625157025253727 [g/cm3]\n",
      "\tVolume         =\tNone [cm^3]\n",
      "\tDepletable     =\tTrue\n",
      "\tS(a,b) Tables  \n",
      "\tNuclides       \n",
      "\tU235           =\t0.003349020113401994 [ao]\n",
      "\tU238           =\t0.13450759832848994 [ao]\n",
      "\tO16            =\t0.47116181021921644 [ao]\n",
      "\tH1             =\t0.39084661443553576 [ao]\n",
      "\tH2             =\t6.08799331729827e-05 [ao]\n",
      "\tO17            =\t7.407697018287032e-05 [ao]\n",
      "\n"
     ]
    }
   ],
   "source": [
    "print(pincell_mixture)"
   ]
  },
  {
   "cell_type": "markdown",
   "metadata": {
    "slideshow": {
     "slide_type": "slide"
    }
   },
   "source": [
    "## Modifying Material Compositions\n",
    "\n",
    "Nuclides and elements can be removed from materials as well."
   ]
  },
  {
   "cell_type": "code",
   "execution_count": 13,
   "metadata": {
    "slideshow": {
     "slide_type": "fragment"
    }
   },
   "outputs": [
    {
     "name": "stdout",
     "output_type": "stream",
     "text": [
      "Material\n",
      "\tID             =\t2\n",
      "\tName           =\t\n",
      "\tTemperature    =\t600\n",
      "\tDensity        =\t1.0 [g/cc]\n",
      "\tVolume         =\tNone [cm^3]\n",
      "\tDepletable     =\tFalse\n",
      "\tS(a,b) Tables  \n",
      "\tS(a,b)         =\t('c_H_in_H20', 1.0)\n",
      "\tNuclides       \n",
      "\tH1             =\t1.99968852   [ao]\n",
      "\tH2             =\t0.00031148   [ao]\n",
      "\tO17            =\t0.000379     [ao]\n",
      "\n"
     ]
    }
   ],
   "source": [
    "water.remove_nuclide('O16')\n",
    "print(water)"
   ]
  },
  {
   "cell_type": "code",
   "execution_count": 14,
   "metadata": {
    "slideshow": {
     "slide_type": "subslide"
    }
   },
   "outputs": [
    {
     "name": "stdout",
     "output_type": "stream",
     "text": [
      "Material\n",
      "\tID             =\t3\n",
      "\tName           =\t\n",
      "\tTemperature    =\tNone\n",
      "\tDensity        =\t1.0 [g/cc]\n",
      "\tVolume         =\tNone [cm^3]\n",
      "\tDepletable     =\tFalse\n",
      "\tS(a,b) Tables  \n",
      "\tNuclides       \n",
      "\tO16            =\t0.333207     [ao]\n",
      "\tO17            =\t0.00012633333333333333 [ao]\n",
      "\n"
     ]
    }
   ],
   "source": [
    "water_again.remove_element('H')\n",
    "print(water_again)"
   ]
  },
  {
   "cell_type": "markdown",
   "metadata": {
    "slideshow": {
     "slide_type": "slide"
    }
   },
   "source": [
    "## Exporting Materials to XML\n",
    "\n",
    "Materials can be collected into a group and exported to an XML file using the `Materials` object. "
   ]
  },
  {
   "cell_type": "code",
   "execution_count": 15,
   "metadata": {
    "slideshow": {
     "slide_type": "fragment"
    }
   },
   "outputs": [],
   "source": [
    "materials = openmc.Materials([uo2, water])\n",
    "materials.export_to_xml()"
   ]
  },
  {
   "cell_type": "code",
   "execution_count": 16,
   "metadata": {
    "slideshow": {
     "slide_type": "subslide"
    }
   },
   "outputs": [
    {
     "name": "stdout",
     "output_type": "stream",
     "text": [
      "<?xml version='1.0' encoding='utf-8'?>\n",
      "<materials>\n",
      "  <material depletable=\"true\" id=\"1\">\n",
      "    <density units=\"g/cc\" value=\"10.0\"/>\n",
      "    <nuclide name=\"U235\" wo=\"0.02115\"/>\n",
      "    <nuclide name=\"U238\" wo=\"0.86032\"/>\n",
      "    <nuclide name=\"O16\" wo=\"0.11852\"/>\n",
      "  </material>\n",
      "  <material id=\"2\" temperature=\"600\">\n",
      "    <density units=\"g/cc\" value=\"1.0\"/>\n",
      "    <nuclide ao=\"1.99968852\" name=\"H1\"/>\n",
      "    <nuclide ao=\"0.00031148\" name=\"H2\"/>\n",
      "    <nuclide ao=\"0.000379\" name=\"O17\"/>\n",
      "    <sab name=\"c_H_in_H20\"/>\n",
      "  </material>\n",
      "</materials>\n",
      "\n"
     ]
    }
   ],
   "source": [
    "print(open('materials.xml', 'r').read())"
   ]
  },
  {
   "cell_type": "markdown",
   "metadata": {
    "slideshow": {
     "slide_type": "subslide"
    }
   },
   "source": [
    "Materials can be imported from an XML file as well. This is true for the `Geometry`, `Settings`, `Tallies`, and `Plots` objects too."
   ]
  },
  {
   "cell_type": "code",
   "execution_count": 17,
   "metadata": {
    "slideshow": {
     "slide_type": "fragment"
    }
   },
   "outputs": [
    {
     "name": "stdout",
     "output_type": "stream",
     "text": [
      "[Material\n",
      "\tID             =\t1\n",
      "\tName           =\t\n",
      "\tTemperature    =\tNone\n",
      "\tDensity        =\t10.0 [g/cc]\n",
      "\tVolume         =\tNone [cm^3]\n",
      "\tDepletable     =\tTrue\n",
      "\tS(a,b) Tables  \n",
      "\tNuclides       \n",
      "\tU235           =\t0.02115      [wo]\n",
      "\tU238           =\t0.86032      [wo]\n",
      "\tO16            =\t0.11852      [wo]\n",
      ", Material\n",
      "\tID             =\t2\n",
      "\tName           =\t\n",
      "\tTemperature    =\t600.0\n",
      "\tDensity        =\t1.0 [g/cc]\n",
      "\tVolume         =\tNone [cm^3]\n",
      "\tDepletable     =\tFalse\n",
      "\tS(a,b) Tables  \n",
      "\tS(a,b)         =\t('c_H_in_H20', 1.0)\n",
      "\tNuclides       \n",
      "\tH1             =\t1.99968852   [ao]\n",
      "\tH2             =\t0.00031148   [ao]\n",
      "\tO17            =\t0.000379     [ao]\n",
      "]\n"
     ]
    },
    {
     "name": "stderr",
     "output_type": "stream",
     "text": [
      "/usr/local/lib/python3.9/dist-packages/openmc/mixin.py:70: IDWarning: Another Material instance already exists with id=1.\n",
      "  warn(msg, IDWarning)\n",
      "/usr/local/lib/python3.9/dist-packages/openmc/mixin.py:70: IDWarning: Another Material instance already exists with id=2.\n",
      "  warn(msg, IDWarning)\n"
     ]
    }
   ],
   "source": [
    "xml_materials = openmc.Materials.from_xml()\n",
    "print(xml_materials)"
   ]
  },
  {
   "cell_type": "markdown",
   "metadata": {
    "slideshow": {
     "slide_type": "subslide"
    }
   },
   "source": [
    "This object inherits from the built-in `list` type in Python and as a result the same operations can be performed on a `Materials` object as a `list`."
   ]
  },
  {
   "cell_type": "code",
   "execution_count": 18,
   "metadata": {
    "slideshow": {
     "slide_type": "fragment"
    }
   },
   "outputs": [
    {
     "data": {
      "text/plain": [
       "True"
      ]
     },
     "execution_count": 18,
     "metadata": {},
     "output_type": "execute_result"
    }
   ],
   "source": [
    "materials.append(water_again)\n",
    "\n",
    "materials = openmc.Materials([uo2]) + [water]\n",
    "\n",
    "water in materials"
   ]
  },
  {
   "cell_type": "markdown",
   "metadata": {
    "slideshow": {
     "slide_type": "slide"
    }
   },
   "source": [
    "## Plotting Material and Nuclide Cross Sections\n",
    "\n",
    "The `openmc.plot_xs` function makes it relatively easy to plot the cross section of either materials or nuclides."
   ]
  },
  {
   "cell_type": "code",
   "execution_count": 19,
   "metadata": {
    "slideshow": {
     "slide_type": "fragment"
    }
   },
   "outputs": [
    {
     "name": "stdout",
     "output_type": "stream",
     "text": [
      "Help on function plot_xs in module openmc.plotter:\n",
      "\n",
      "plot_xs(reactions, divisor_types=None, temperature=294.0, axis=None, sab_name=None, ce_cross_sections=None, mg_cross_sections=None, enrichment=None, plot_CE=True, orders=None, divisor_orders=None, **kwargs)\n",
      "    Creates a figure of continuous-energy cross sections for this item.\n",
      "    \n",
      "    Parameters\n",
      "    ----------\n",
      "    reactions : dict\n",
      "        keys can be either a nuclide or element in string form or an\n",
      "        openmc.Material object. Values are the type of cross sections to\n",
      "        include in the plot.\n",
      "    divisor_types : Iterable of values of PLOT_TYPES, optional\n",
      "        Cross section types which will divide those produced by types\n",
      "        before plotting. A type of 'unity' can be used to effectively not\n",
      "        divide some types.\n",
      "    temperature : float, optional\n",
      "        Temperature in Kelvin to plot. If not specified, a default\n",
      "        temperature of 294K will be plotted. Note that the nearest\n",
      "        temperature in the library for each nuclide will be used as opposed\n",
      "        to using any interpolation.\n",
      "    axis : matplotlib.axes, optional\n",
      "        A previously generated axis to use for plotting. If not specified,\n",
      "        a new axis and figure will be generated.\n",
      "    sab_name : str, optional\n",
      "        Name of S(a,b) library to apply to MT=2 data when applicable.\n",
      "    ce_cross_sections : str, optional\n",
      "        Location of cross_sections.xml file. Default is None.\n",
      "    mg_cross_sections : str, optional\n",
      "        Location of MGXS HDF5 Library file. Default is None.\n",
      "    enrichment : float, optional\n",
      "        Enrichment for U235 in weight percent. For example, input 4.95 for\n",
      "        4.95 weight percent enriched U. Default is None.\n",
      "    plot_CE : bool, optional\n",
      "        Denotes whether or not continuous-energy will be plotted. Defaults to\n",
      "        plotting the continuous-energy data.\n",
      "    orders : Iterable of Integral, optional\n",
      "        The scattering order or delayed group index to use for the\n",
      "        corresponding entry in types. Defaults to the 0th order for scattering\n",
      "        and the total delayed neutron data. This only applies to plots of\n",
      "        multi-group data.\n",
      "    divisor_orders : Iterable of Integral, optional\n",
      "        Same as orders, but for divisor_types\n",
      "    **kwargs :\n",
      "        All keyword arguments are passed to\n",
      "        :func:`matplotlib.pyplot.figure`.\n",
      "    \n",
      "    Returns\n",
      "    -------\n",
      "    fig : matplotlib.figure.Figure\n",
      "        If axis is None, then a Matplotlib Figure of the generated\n",
      "        cross section will be returned. Otherwise, a value of\n",
      "        None will be returned as the figure and axes have already been\n",
      "        generated.\n",
      "\n"
     ]
    }
   ],
   "source": [
    "help(openmc.plot_xs)"
   ]
  },
  {
   "cell_type": "code",
   "execution_count": 20,
   "metadata": {
    "slideshow": {
     "slide_type": "subslide"
    }
   },
   "outputs": [
    {
     "data": {
      "image/png": "[encoded data removed]",
      "text/plain": [
       "<Figure size 640x480 with 1 Axes>"
      ]
     },
     "execution_count": 20,
     "metadata": {},
     "output_type": "execute_result"
    }
   ],
   "source": [
    "uo2.name = 'UO2'\n",
    "openmc.plot_xs({uo2 : ['fission']})"
   ]
  },
  {
   "cell_type": "code",
   "execution_count": 21,
   "metadata": {
    "slideshow": {
     "slide_type": "subslide"
    }
   },
   "outputs": [
    {
     "data": {
      "image/png": "[encoded data removed]",
      "text/plain": [
       "<Figure size 640x480 with 1 Axes>"
      ]
     },
     "execution_count": 21,
     "metadata": {},
     "output_type": "execute_result"
    }
   ],
   "source": [
    "water_again.name = 'water'\n",
    "openmc.plot_xs({water_again: ['scatter', 'absorption']})"
   ]
  },
  {
   "cell_type": "code",
   "execution_count": 22,
   "metadata": {
    "slideshow": {
     "slide_type": "subslide"
    }
   },
   "outputs": [
    {
     "data": {
      "image/png": "[encoded data removed]",
      "text/plain": [
       "<Figure size 640x480 with 1 Axes>"
      ]
     },
     "execution_count": 22,
     "metadata": {},
     "output_type": "execute_result"
    }
   ],
   "source": [
    "openmc.plot_xs({'Li7': ['absorption'], 'Li6': ['absorption']})"
   ]
  },
  {
   "cell_type": "markdown",
   "metadata": {
    "slideshow": {
     "slide_type": "slide"
    }
   },
   "source": [
    "## Other `Material` attributes and features\n",
    "\n",
    "There are other attributes of the `Material` that we'll discuss later:\n",
    "\n",
    "  - `depletable` enables depletion of this material when using the `openmc.deplete` module\n",
    "  - `volume` sets the volume of a material in the model (used in `openmc.deplete` and sometimes in tally normalization)\n",
    "  - `get_activity` based on the volume, density, and composition, returns the activity or specific activity of the material\n",
    "  - `get_decay_photon_energy` provides the energy distribution of a material with unstable isotopes"
   ]
  }
 ],
 "metadata": {
  "kernelspec": {
   "display_name": "Python 3",
   "language": "python",
   "name": "python3"
  },
  "language_info": {
   "codemirror_mode": {
    "name": "ipython",
    "version": 3
   },
   "file_extension": ".py",
   "mimetype": "text/x-python",
   "name": "python",
   "nbconvert_exporter": "python",
   "pygments_lexer": "ipython3",
   "version": "3.9.2"
  }
 },
 "nbformat": 4,
 "nbformat_minor": 2
}
