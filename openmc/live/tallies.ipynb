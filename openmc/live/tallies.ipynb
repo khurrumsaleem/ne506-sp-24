{
 "cells": [
  {
   "cell_type": "code",
   "execution_count": 2,
   "metadata": {},
   "outputs": [],
   "source": [
    "import openmc\n",
    "import numpy as np\n",
    "from matplotlib import pyplot as plt"
   ]
  },
  {
   "cell_type": "markdown",
   "metadata": {},
   "source": [
    " - demonstrate tallies, filters, and scores\n",
    " - compute fission power and discuss heating tallies\n",
    " - talk about and demonstrate statepoint file handles\n",
    " - demonstrate mesh tally"
   ]
  },
  {
   "cell_type": "markdown",
   "metadata": {},
   "source": [
    "The tally capability in OpenMC takes a similar philosophy as that employed in the MC21 Monte Carlo code to give maximum flexibility in specifying tallies while still maintaining scalability. Any tally in OpenMC can be described with the following form:\n",
    "\n",
    "$$ \n",
    " X = \\underbrace{\\int d\\mathbf{r} \\int d\\mathbf{\\Omega} \\int\n",
    "    dE}_{\\text{filters}} \\underbrace{f(\\mathbf{r}, \\mathbf{\\Omega},\n",
    "    E)}_{\\text{scores}} \\psi (\\mathbf{r}, \\mathbf{\\Omega}, E)\n",
    "$$\n",
    "\n",
    "where filters set the limits of the integrals and the scoring function is convolved with particle information (e.g. reaction type, current material, etc.)."
   ]
  },
  {
   "cell_type": "markdown",
   "metadata": {},
   "source": [
    "Total number of bins in a tally:\n",
    "\n",
    "$$ N_{bins} =  \\underbrace{\\prod_{f}^{F} N_{f}}_{filters} \\times N_{scores} \\times N_{nuclides} $$"
   ]
  },
  {
   "cell_type": "code",
   "execution_count": 3,
   "metadata": {},
   "outputs": [],
   "source": [
    "model = openmc.examples.pwr_pin_cell()"
   ]
  },
  {
   "cell_type": "code",
   "execution_count": 4,
   "metadata": {},
   "outputs": [],
   "source": [
    "model.settings.particles = 10_000\n",
    "model.settings.batches = 50\n",
    "model.settings.inactive = 10\n",
    "\n",
    "tally = openmc.Tally()"
   ]
  },
  {
   "cell_type": "code",
   "execution_count": 7,
   "metadata": {},
   "outputs": [
    {
     "data": {
      "image/png": "[encoded data removed]",
      "text/plain": [
       "<Figure size 258.065x259.74 with 1 Axes>"
      ]
     },
     "metadata": {},
     "output_type": "display_data"
    },
    {
     "data": {
      "image/png": "[encoded data removed]",
      "text/plain": [
       "<Figure size 258.065x259.74 with 1 Axes>"
      ]
     },
     "metadata": {},
     "output_type": "display_data"
    }
   ],
   "source": [
    "model.geometry.plot()\n",
    "plt.show()"
   ]
  },
  {
   "cell_type": "code",
   "execution_count": 5,
   "metadata": {},
   "outputs": [
    {
     "data": {
      "text/plain": [
       "[Material\n",
       " \tID             =\t1\n",
       " \tName           =\tUO2 (2.4%)\n",
       " \tTemperature    =\tNone\n",
       " \tDensity        =\t10.29769 [g/cm3]\n",
       " \tVolume         =\tNone [cm^3]\n",
       " \tDepletable     =\tTrue\n",
       " \tS(a,b) Tables  \n",
       " \tNuclides       \n",
       " \tU234           =\t4.4843e-06   [ao]\n",
       " \tU235           =\t0.00055815   [ao]\n",
       " \tU238           =\t0.022408     [ao]\n",
       " \tO16            =\t0.045829     [ao],\n",
       " Material\n",
       " \tID             =\t2\n",
       " \tName           =\tZircaloy\n",
       " \tTemperature    =\tNone\n",
       " \tDensity        =\t6.55 [g/cm3]\n",
       " \tVolume         =\tNone [cm^3]\n",
       " \tDepletable     =\tFalse\n",
       " \tS(a,b) Tables  \n",
       " \tNuclides       \n",
       " \tZr90           =\t0.021827     [ao]\n",
       " \tZr91           =\t0.00476      [ao]\n",
       " \tZr92           =\t0.0072758    [ao]\n",
       " \tZr94           =\t0.0073734    [ao]\n",
       " \tZr96           =\t0.0011879    [ao],\n",
       " Material\n",
       " \tID             =\t3\n",
       " \tName           =\tHot borated water\n",
       " \tTemperature    =\tNone\n",
       " \tDensity        =\t0.740582 [g/cm3]\n",
       " \tVolume         =\tNone [cm^3]\n",
       " \tDepletable     =\tFalse\n",
       " \tS(a,b) Tables  \n",
       " \tS(a,b)         =\t('c_H_in_H2O', 1.0)\n",
       " \tNuclides       \n",
       " \tH1             =\t0.049457     [ao]\n",
       " \tO16            =\t0.024672     [ao]\n",
       " \tB10            =\t8.0042e-06   [ao]\n",
       " \tB11            =\t3.2218e-05   [ao]]"
      ]
     },
     "execution_count": 5,
     "metadata": {},
     "output_type": "execute_result"
    }
   ],
   "source": [
    "model.materials"
   ]
  },
  {
   "cell_type": "code",
   "execution_count": 8,
   "metadata": {},
   "outputs": [],
   "source": [
    "tally.scores = ['heating', 'heating-local', 'kappa-fission', 'fission']"
   ]
  },
  {
   "cell_type": "markdown",
   "metadata": {},
   "source": [
    "$$ \\frac{\\frac{eV}{src-p}}{\\frac{fissions}{src-p}}  = \\frac{eV}{fission} $$"
   ]
  },
  {
   "cell_type": "code",
   "execution_count": 9,
   "metadata": {},
   "outputs": [],
   "source": [
    "model.settings.photon_transport = True\n",
    "xs_loc = '/filespace/s/shriwise/data/xs/openmc/endfb-vii.1-hdf5/cross_sections.xml'\n",
    "openmc.config['cross_sections'] = xs_loc"
   ]
  },
  {
   "cell_type": "code",
   "execution_count": 10,
   "metadata": {},
   "outputs": [],
   "source": [
    "model.tallies = [tally]"
   ]
  },
  {
   "cell_type": "code",
   "execution_count": 11,
   "metadata": {},
   "outputs": [
    {
     "name": "stdout",
     "output_type": "stream",
     "text": [
      "                                %%%%%%%%%%%%%%%\n",
      "                           %%%%%%%%%%%%%%%%%%%%%%%%\n",
      "                        %%%%%%%%%%%%%%%%%%%%%%%%%%%%%%\n",
      "                      %%%%%%%%%%%%%%%%%%%%%%%%%%%%%%%%%%\n",
      "                    %%%%%%%%%%%%%%%%%%%%%%%%%%%%%%%%%%%%%%\n",
      "                   %%%%%%%%%%%%%%%%%%%%%%%%%%%%%%%%%%%%%%%%\n",
      "                                    %%%%%%%%%%%%%%%%%%%%%%%%\n",
      "                                     %%%%%%%%%%%%%%%%%%%%%%%%\n",
      "                 ###############      %%%%%%%%%%%%%%%%%%%%%%%%\n",
      "                ##################     %%%%%%%%%%%%%%%%%%%%%%%\n",
      "                ###################     %%%%%%%%%%%%%%%%%%%%%%%\n",
      "                ####################     %%%%%%%%%%%%%%%%%%%%%%\n",
      "                #####################     %%%%%%%%%%%%%%%%%%%%%\n",
      "                ######################     %%%%%%%%%%%%%%%%%%%%\n",
      "                #######################     %%%%%%%%%%%%%%%%%%\n",
      "                 #######################     %%%%%%%%%%%%%%%%%\n",
      "                 ######################     %%%%%%%%%%%%%%%%%\n",
      "                  ####################     %%%%%%%%%%%%%%%%%\n",
      "                    #################     %%%%%%%%%%%%%%%%%\n",
      "                     ###############     %%%%%%%%%%%%%%%%\n",
      "                       ############     %%%%%%%%%%%%%%%\n",
      "                          ########     %%%%%%%%%%%%%%\n",
      "                                      %%%%%%%%%%%\n",
      "\n",
      "                 | The OpenMC Monte Carlo Code\n",
      "       Copyright | 2011-2023 MIT, UChicago Argonne LLC, and contributors\n",
      "         License | https://docs.openmc.org/en/latest/license.html\n",
      "         Version | 0.14.0\n",
      "        Git SHA1 | fa2330103de61a864c958d1a7250f11e5dd91468\n",
      "       Date/Time | 2024-04-01 13:26:12\n",
      "   MPI Processes | 1\n",
      "  OpenMP Threads | 4\n",
      "\n",
      " Reading model XML file './model.xml' ...\n",
      " Reading cross sections XML file...\n",
      " Reading U234 from\n",
      " /filespace/s/shriwise/data/xs/openmc/endfb-vii.1-hdf5/neutron/U234.h5\n",
      " Reading U from\n",
      " /filespace/s/shriwise/data/xs/openmc/endfb-vii.1-hdf5/photon/U.h5 \n",
      " Reading U235 from\n",
      " /filespace/s/shriwise/data/xs/openmc/endfb-vii.1-hdf5/neutron/U235.h5\n",
      " Reading U238 from\n",
      " /filespace/s/shriwise/data/xs/openmc/endfb-vii.1-hdf5/neutron/U238.h5\n",
      " Reading O16 from\n",
      " /filespace/s/shriwise/data/xs/openmc/endfb-vii.1-hdf5/neutron/O16.h5\n",
      " Reading O from\n",
      " /filespace/s/shriwise/data/xs/openmc/endfb-vii.1-hdf5/photon/O.h5 \n",
      " Reading Zr90 from\n",
      " /filespace/s/shriwise/data/xs/openmc/endfb-vii.1-hdf5/neutron/Zr90.h5\n",
      " Reading Zr from\n",
      " /filespace/s/shriwise/data/xs/openmc/endfb-vii.1-hdf5/photon/Zr.h5 \n",
      " Reading Zr91 from\n",
      " /filespace/s/shriwise/data/xs/openmc/endfb-vii.1-hdf5/neutron/Zr91.h5\n",
      " Reading Zr92 from\n",
      " /filespace/s/shriwise/data/xs/openmc/endfb-vii.1-hdf5/neutron/Zr92.h5\n",
      " Reading Zr94 from\n",
      " /filespace/s/shriwise/data/xs/openmc/endfb-vii.1-hdf5/neutron/Zr94.h5\n",
      " Reading Zr96 from\n",
      " /filespace/s/shriwise/data/xs/openmc/endfb-vii.1-hdf5/neutron/Zr96.h5\n",
      " Reading H1 from\n",
      " /filespace/s/shriwise/data/xs/openmc/endfb-vii.1-hdf5/neutron/H1.h5\n",
      " Reading H from\n",
      " /filespace/s/shriwise/data/xs/openmc/endfb-vii.1-hdf5/photon/H.h5 \n",
      " Reading B10 from\n",
      " /filespace/s/shriwise/data/xs/openmc/endfb-vii.1-hdf5/neutron/B10.h5\n",
      " Reading B from\n",
      " /filespace/s/shriwise/data/xs/openmc/endfb-vii.1-hdf5/photon/B.h5 \n",
      " Reading B11 from\n",
      " /filespace/s/shriwise/data/xs/openmc/endfb-vii.1-hdf5/neutron/B11.h5\n",
      " Reading c_H_in_H2O from\n",
      " /filespace/s/shriwise/data/xs/openmc/endfb-vii.1-hdf5/neutron/c_H_in_H2O.h5\n",
      " Minimum neutron data temperature: 294 K\n",
      " Maximum neutron data temperature: 294 K\n",
      " WARNING: You are tallying the 'fission' score and haven't used a particle\n",
      "          filter. This score will include contributions from all particles.\n",
      " Preparing distributed cell instances...\n",
      " Writing summary.h5 file...\n",
      " Maximum neutron transport energy: 20000000 eV for U235\n",
      " Initializing source particles...\n",
      "\n",
      " ====================>     K EIGENVALUE SIMULATION     <====================\n",
      "\n",
      "  Bat./Gen.      k            Average k\n",
      "  =========   ========   ====================\n",
      "        1/1    1.15866\n",
      "        2/1    1.14795\n",
      "        3/1    1.14863\n",
      "        4/1    1.13723\n",
      "        5/1    1.14844\n",
      "        6/1    1.16874\n",
      "        7/1    1.16263\n",
      "        8/1    1.14254\n",
      "        9/1    1.17099\n",
      "       10/1    1.16734\n",
      "       11/1    1.15104\n",
      "       12/1    1.17245    1.16175 +/- 0.01070\n",
      "       13/1    1.15356    1.15902 +/- 0.00676\n",
      "       14/1    1.15041    1.15686 +/- 0.00524\n",
      "       15/1    1.17680    1.16085 +/- 0.00569\n",
      "       16/1    1.16163    1.16098 +/- 0.00465\n",
      "       17/1    1.16894    1.16212 +/- 0.00409\n",
      "       18/1    1.16620    1.16263 +/- 0.00358\n",
      "       19/1    1.17079    1.16353 +/- 0.00328\n",
      "       20/1    1.16255    1.16344 +/- 0.00294\n",
      "       21/1    1.15036    1.16225 +/- 0.00291\n",
      "       22/1    1.18347    1.16402 +/- 0.00319\n",
      "       23/1    1.15423    1.16326 +/- 0.00303\n",
      "       24/1    1.17004    1.16375 +/- 0.00285\n",
      "       25/1    1.15967    1.16348 +/- 0.00267\n",
      "       26/1    1.15881    1.16318 +/- 0.00251\n",
      "       27/1    1.16110    1.16306 +/- 0.00236\n",
      "       28/1    1.15751    1.16275 +/- 0.00225\n",
      "       29/1    1.16594    1.16292 +/- 0.00213\n",
      "       30/1    1.18116    1.16383 +/- 0.00222\n",
      "       31/1    1.15296    1.16331 +/- 0.00217\n",
      "       32/1    1.18134    1.16413 +/- 0.00223\n",
      "       33/1    1.16270    1.16407 +/- 0.00213\n",
      "       34/1    1.17085    1.16435 +/- 0.00206\n",
      "       35/1    1.17875    1.16493 +/- 0.00206\n",
      "       36/1    1.18400    1.16566 +/- 0.00211\n",
      "       37/1    1.14974    1.16507 +/- 0.00211\n",
      "       38/1    1.11901    1.16343 +/- 0.00262\n",
      "       39/1    1.15380    1.16310 +/- 0.00255\n",
      "       40/1    1.15154    1.16271 +/- 0.00249\n",
      "       41/1    1.16507    1.16279 +/- 0.00241\n",
      "       42/1    1.15120    1.16243 +/- 0.00236\n",
      "       43/1    1.14005    1.16175 +/- 0.00239\n",
      "       44/1    1.16801    1.16193 +/- 0.00232\n",
      "       45/1    1.16251    1.16195 +/- 0.00226\n",
      "       46/1    1.16881    1.16214 +/- 0.00220\n",
      "       47/1    1.15364    1.16191 +/- 0.00215\n",
      "       48/1    1.16024    1.16186 +/- 0.00210\n",
      "       49/1    1.17567    1.16222 +/- 0.00207\n",
      "       50/1    1.16380    1.16226 +/- 0.00202\n",
      " Creating state point statepoint.50.h5...\n",
      "\n",
      " =======================>     TIMING STATISTICS     <=======================\n",
      "\n",
      " Total time for initialization     = 4.3811e+00 seconds\n",
      "   Reading cross sections          = 2.8994e+00 seconds\n",
      " Total time in simulation          = 6.3891e+01 seconds\n",
      "   Time in transport only          = 6.3147e+01 seconds\n",
      "   Time in inactive batches        = 1.0733e+01 seconds\n",
      "   Time in active batches          = 5.3158e+01 seconds\n",
      "   Time synchronizing fission bank = 2.9390e-02 seconds\n",
      "     Sampling source sites         = 2.3187e-02 seconds\n",
      "     SEND/RECV source sites        = 3.7589e-03 seconds\n",
      "   Time accumulating tallies       = 6.6128e-01 seconds\n",
      "   Time writing statepoints        = 3.4445e-02 seconds\n",
      " Total time for finalization       = 1.2244e-03 seconds\n",
      " Total time elapsed                = 6.8291e+01 seconds\n",
      " Calculation Rate (inactive)       = 9317.31 particles/second\n",
      " Calculation Rate (active)         = 7524.69 particles/second\n",
      "\n",
      " ============================>     RESULTS     <============================\n",
      "\n",
      " k-effective (Collision)     = 1.16212 +/- 0.00137\n",
      " k-effective (Track-length)  = 1.16226 +/- 0.00202\n",
      " k-effective (Absorption)    = 1.16305 +/- 0.00167\n",
      " Combined k-effective        = 1.16242 +/- 0.00132\n",
      " Leakage Fraction            = 0.00000 +/- 0.00000\n",
      "\n",
      "/filespace/s/shriwise/ne506/content/openmc/in-class/statepoint.50.h5\n"
     ]
    }
   ],
   "source": [
    "sp_file = model.run(threads=4)\n",
    "print(sp_file)"
   ]
  },
  {
   "cell_type": "code",
   "execution_count": 12,
   "metadata": {},
   "outputs": [],
   "source": [
    "statepoint = openmc.StatePoint(sp_file)\n"
   ]
  },
  {
   "cell_type": "code",
   "execution_count": 35,
   "metadata": {},
   "outputs": [
    {
     "data": {
      "text/plain": [
       "['tallies.ipynb',\n",
       " 'statepoint.50.h5',\n",
       " 'tallies.out',\n",
       " 'model.xml',\n",
       " 'summary.h5',\n",
       " '.ipynb_checkpoints']"
      ]
     },
     "execution_count": 35,
     "metadata": {},
     "output_type": "execute_result"
    }
   ],
   "source": [
    "import os\n",
    "os.listdir('.')"
   ]
  },
  {
   "cell_type": "code",
   "execution_count": 13,
   "metadata": {},
   "outputs": [
    {
     "data": {
      "text/plain": [
       "1.1624152121727236+/-0.0013189930737785675"
      ]
     },
     "execution_count": 13,
     "metadata": {},
     "output_type": "execute_result"
    }
   ],
   "source": [
    "statepoint.keff"
   ]
  },
  {
   "cell_type": "code",
   "execution_count": 14,
   "metadata": {},
   "outputs": [
    {
     "data": {
      "text/plain": [
       "array([1.15866163, 1.14795435, 1.14863399, 1.13723271, 1.14844257,\n",
       "       1.16873609, 1.16263338, 1.14253623, 1.17099238, 1.16733718,\n",
       "       1.15104269, 1.17244933, 1.15355631, 1.15040904, 1.17679932,\n",
       "       1.16163095, 1.16894017, 1.16619776, 1.17078715, 1.16254852,\n",
       "       1.15036153, 1.18347499, 1.15423458, 1.17003687, 1.15967215,\n",
       "       1.15881018, 1.16109544, 1.1575117 , 1.16593641, 1.18115784,\n",
       "       1.15295851, 1.18133558, 1.16270452, 1.17085028, 1.17875278,\n",
       "       1.18399753, 1.14973585, 1.11900909, 1.15380324, 1.1515369 ,\n",
       "       1.16506695, 1.15119865, 1.14005003, 1.16800571, 1.16251021,\n",
       "       1.16881145, 1.15364155, 1.16023601, 1.17567083, 1.16380223])"
      ]
     },
     "execution_count": 14,
     "metadata": {},
     "output_type": "execute_result"
    }
   ],
   "source": [
    "statepoint.k_generation"
   ]
  },
  {
   "cell_type": "code",
   "execution_count": 15,
   "metadata": {},
   "outputs": [
    {
     "data": {
      "text/plain": [
       "{1: Tally\n",
       " \tID             =\t1\n",
       " \tName           =\t\n",
       " \tFilters        =\t\n",
       " \tNuclides       =\ttotal\n",
       " \tScores         =\t['heating', 'heating-local', 'kappa-fission', 'fission']\n",
       " \tEstimator      =\tcollision\n",
       " \tMultiply dens. =\tTrue}"
      ]
     },
     "execution_count": 15,
     "metadata": {},
     "output_type": "execute_result"
    }
   ],
   "source": [
    "statepoint.tallies"
   ]
  },
  {
   "cell_type": "code",
   "execution_count": 16,
   "metadata": {},
   "outputs": [],
   "source": [
    "tally_result = statepoint.tallies[tally.id]"
   ]
  },
  {
   "cell_type": "code",
   "execution_count": 17,
   "metadata": {},
   "outputs": [],
   "source": [
    "tally.mean"
   ]
  },
  {
   "cell_type": "code",
   "execution_count": 21,
   "metadata": {},
   "outputs": [
    {
     "data": {
      "text/plain": [
       "(1, 1, 4)"
      ]
     },
     "execution_count": 21,
     "metadata": {},
     "output_type": "execute_result"
    }
   ],
   "source": [
    "tally_result.mean.shape"
   ]
  },
  {
   "cell_type": "code",
   "execution_count": 19,
   "metadata": {},
   "outputs": [
    {
     "data": {
      "text/plain": [
       "array([[[1.02864353e+05, 1.06159710e+05, 1.08243730e+05, 5.59952867e-04]]])"
      ]
     },
     "execution_count": 19,
     "metadata": {},
     "output_type": "execute_result"
    }
   ],
   "source": [
    "tally_result.std_dev"
   ]
  },
  {
   "cell_type": "code",
   "execution_count": 28,
   "metadata": {},
   "outputs": [],
   "source": [
    "heating, heating_local, kappa_fission, fission_rate = \\\n",
    "tally_result.get_values(scores=['heating', 'heating-local', 'kappa-fission', 'fission']).flatten()"
   ]
  },
  {
   "cell_type": "code",
   "execution_count": 29,
   "metadata": {},
   "outputs": [
    {
     "name": "stdout",
     "output_type": "stream",
     "text": [
      "94109392.04180504 94185864.7155524 91497450.13340844 0.47243080167810375\n"
     ]
    }
   ],
   "source": [
    "print(heating, heating_local, kappa_fission, fission_rate)"
   ]
  },
  {
   "cell_type": "code",
   "execution_count": 32,
   "metadata": {},
   "outputs": [
    {
     "name": "stdout",
     "output_type": "stream",
     "text": [
      "Fission heating: 193.6737609156807 MeV\n"
     ]
    }
   ],
   "source": [
    "print(f'Fission heating: {1e-6 * kappa_fission / fission_rate} MeV')"
   ]
  },
  {
   "cell_type": "code",
   "execution_count": 33,
   "metadata": {},
   "outputs": [
    {
     "data": {
      "text/plain": [
       "40"
      ]
     },
     "execution_count": 33,
     "metadata": {},
     "output_type": "execute_result"
    }
   ],
   "source": [
    "tally_result.num_realizations"
   ]
  },
  {
   "cell_type": "code",
   "execution_count": 36,
   "metadata": {},
   "outputs": [],
   "source": [
    "statepoint.close()"
   ]
  },
  {
   "cell_type": "code",
   "execution_count": 37,
   "metadata": {},
   "outputs": [
    {
     "name": "stdout",
     "output_type": "stream",
     "text": [
      "                                %%%%%%%%%%%%%%%\n",
      "                           %%%%%%%%%%%%%%%%%%%%%%%%\n",
      "                        %%%%%%%%%%%%%%%%%%%%%%%%%%%%%%\n",
      "                      %%%%%%%%%%%%%%%%%%%%%%%%%%%%%%%%%%\n",
      "                    %%%%%%%%%%%%%%%%%%%%%%%%%%%%%%%%%%%%%%\n",
      "                   %%%%%%%%%%%%%%%%%%%%%%%%%%%%%%%%%%%%%%%%\n",
      "                                    %%%%%%%%%%%%%%%%%%%%%%%%\n",
      "                                     %%%%%%%%%%%%%%%%%%%%%%%%\n",
      "                 ###############      %%%%%%%%%%%%%%%%%%%%%%%%\n",
      "                ##################     %%%%%%%%%%%%%%%%%%%%%%%\n",
      "                ###################     %%%%%%%%%%%%%%%%%%%%%%%\n",
      "                ####################     %%%%%%%%%%%%%%%%%%%%%%\n",
      "                #####################     %%%%%%%%%%%%%%%%%%%%%\n",
      "                ######################     %%%%%%%%%%%%%%%%%%%%\n",
      "                #######################     %%%%%%%%%%%%%%%%%%\n",
      "                 #######################     %%%%%%%%%%%%%%%%%\n",
      "                 ######################     %%%%%%%%%%%%%%%%%\n",
      "                  ####################     %%%%%%%%%%%%%%%%%\n",
      "                    #################     %%%%%%%%%%%%%%%%%\n",
      "                     ###############     %%%%%%%%%%%%%%%%\n",
      "                       ############     %%%%%%%%%%%%%%%\n",
      "                          ########     %%%%%%%%%%%%%%\n",
      "                                      %%%%%%%%%%%\n",
      "\n",
      "                 | The OpenMC Monte Carlo Code\n",
      "       Copyright | 2011-2023 MIT, UChicago Argonne LLC, and contributors\n",
      "         License | https://docs.openmc.org/en/latest/license.html\n",
      "         Version | 0.14.0\n",
      "        Git SHA1 | fa2330103de61a864c958d1a7250f11e5dd91468\n",
      "       Date/Time | 2024-04-01 13:41:14\n",
      "   MPI Processes | 1\n",
      "  OpenMP Threads | 4\n",
      "\n",
      " Reading model XML file './model.xml' ...\n",
      " Reading cross sections XML file...\n",
      " Reading U234 from\n",
      " /filespace/s/shriwise/data/xs/openmc/endfb-vii.1-hdf5/neutron/U234.h5\n",
      " Reading U from\n",
      " /filespace/s/shriwise/data/xs/openmc/endfb-vii.1-hdf5/photon/U.h5 \n",
      " Reading U235 from\n",
      " /filespace/s/shriwise/data/xs/openmc/endfb-vii.1-hdf5/neutron/U235.h5\n",
      " Reading U238 from\n",
      " /filespace/s/shriwise/data/xs/openmc/endfb-vii.1-hdf5/neutron/U238.h5\n",
      " Reading O16 from\n",
      " /filespace/s/shriwise/data/xs/openmc/endfb-vii.1-hdf5/neutron/O16.h5\n",
      " Reading O from\n",
      " /filespace/s/shriwise/data/xs/openmc/endfb-vii.1-hdf5/photon/O.h5 \n",
      " Reading Zr90 from\n",
      " /filespace/s/shriwise/data/xs/openmc/endfb-vii.1-hdf5/neutron/Zr90.h5\n",
      " Reading Zr from\n",
      " /filespace/s/shriwise/data/xs/openmc/endfb-vii.1-hdf5/photon/Zr.h5 \n",
      " Reading Zr91 from\n",
      " /filespace/s/shriwise/data/xs/openmc/endfb-vii.1-hdf5/neutron/Zr91.h5\n",
      " Reading Zr92 from\n",
      " /filespace/s/shriwise/data/xs/openmc/endfb-vii.1-hdf5/neutron/Zr92.h5\n",
      " Reading Zr94 from\n",
      " /filespace/s/shriwise/data/xs/openmc/endfb-vii.1-hdf5/neutron/Zr94.h5\n",
      " Reading Zr96 from\n",
      " /filespace/s/shriwise/data/xs/openmc/endfb-vii.1-hdf5/neutron/Zr96.h5\n",
      " Reading H1 from\n",
      " /filespace/s/shriwise/data/xs/openmc/endfb-vii.1-hdf5/neutron/H1.h5\n",
      " Reading H from\n",
      " /filespace/s/shriwise/data/xs/openmc/endfb-vii.1-hdf5/photon/H.h5 \n",
      " Reading B10 from\n",
      " /filespace/s/shriwise/data/xs/openmc/endfb-vii.1-hdf5/neutron/B10.h5\n",
      " Reading B from\n",
      " /filespace/s/shriwise/data/xs/openmc/endfb-vii.1-hdf5/photon/B.h5 \n",
      " Reading B11 from\n",
      " /filespace/s/shriwise/data/xs/openmc/endfb-vii.1-hdf5/neutron/B11.h5\n",
      " Reading c_H_in_H2O from\n",
      " /filespace/s/shriwise/data/xs/openmc/endfb-vii.1-hdf5/neutron/c_H_in_H2O.h5\n",
      " Minimum neutron data temperature: 294 K\n",
      " Maximum neutron data temperature: 294 K\n",
      " WARNING: You are tallying the 'fission' score and haven't used a particle\n",
      "          filter. This score will include contributions from all particles.\n",
      " Preparing distributed cell instances...\n",
      " Writing summary.h5 file...\n",
      " Maximum neutron transport energy: 20000000 eV for U235\n",
      " Initializing source particles...\n",
      "\n",
      " ====================>     K EIGENVALUE SIMULATION     <====================\n",
      "\n",
      "  Bat./Gen.      k            Average k\n",
      "  =========   ========   ====================\n",
      "        1/1    1.15866\n",
      "        2/1    1.14795\n",
      "        3/1    1.14863\n",
      "        4/1    1.13723\n",
      "        5/1    1.14844\n",
      "        6/1    1.16874\n",
      "        7/1    1.16263\n",
      "        8/1    1.14254\n",
      "        9/1    1.17099\n",
      "       10/1    1.16734\n",
      "       11/1    1.15104\n",
      "       12/1    1.17245    1.16175 +/- 0.01070\n",
      "       13/1    1.15356    1.15902 +/- 0.00676\n",
      "       14/1    1.15041    1.15686 +/- 0.00524\n",
      "       15/1    1.17680    1.16085 +/- 0.00569\n",
      "       16/1    1.16163    1.16098 +/- 0.00465\n",
      "       17/1    1.16894    1.16212 +/- 0.00409\n",
      "       18/1    1.16620    1.16263 +/- 0.00358\n",
      "       19/1    1.17079    1.16353 +/- 0.00328\n",
      "       20/1    1.16255    1.16344 +/- 0.00294\n",
      "       21/1    1.15036    1.16225 +/- 0.00291\n",
      "       22/1    1.18347    1.16402 +/- 0.00319\n",
      "       23/1    1.15423    1.16326 +/- 0.00303\n",
      "       24/1    1.17004    1.16375 +/- 0.00285\n",
      "       25/1    1.15967    1.16348 +/- 0.00267\n",
      "       26/1    1.15881    1.16318 +/- 0.00251\n",
      "       27/1    1.16110    1.16306 +/- 0.00236\n",
      "       28/1    1.15751    1.16275 +/- 0.00225\n",
      "       29/1    1.16594    1.16292 +/- 0.00213\n",
      "       30/1    1.18116    1.16383 +/- 0.00222\n",
      "       31/1    1.15296    1.16331 +/- 0.00217\n",
      "       32/1    1.18134    1.16413 +/- 0.00223\n",
      "       33/1    1.16270    1.16407 +/- 0.00213\n",
      "       34/1    1.17085    1.16435 +/- 0.00206\n",
      "       35/1    1.17875    1.16493 +/- 0.00206\n",
      "       36/1    1.18400    1.16566 +/- 0.00211\n",
      "       37/1    1.14974    1.16507 +/- 0.00211\n",
      "       38/1    1.11901    1.16343 +/- 0.00262\n",
      "       39/1    1.15380    1.16310 +/- 0.00255\n",
      "       40/1    1.15154    1.16271 +/- 0.00249\n",
      "       41/1    1.16507    1.16279 +/- 0.00241\n",
      "       42/1    1.15120    1.16243 +/- 0.00236\n",
      "       43/1    1.14005    1.16175 +/- 0.00239\n",
      "       44/1    1.16801    1.16193 +/- 0.00232\n",
      "       45/1    1.16251    1.16195 +/- 0.00226\n",
      "       46/1    1.16881    1.16214 +/- 0.00220\n",
      "       47/1    1.15364    1.16191 +/- 0.00215\n",
      "       48/1    1.16024    1.16186 +/- 0.00210\n",
      "       49/1    1.17567    1.16222 +/- 0.00207\n",
      "       50/1    1.16380    1.16226 +/- 0.00202\n",
      " Creating state point statepoint.50.h5...\n",
      "\n",
      " =======================>     TIMING STATISTICS     <=======================\n",
      "\n",
      " Total time for initialization     = 2.0021e+00 seconds\n",
      "   Reading cross sections          = 7.0920e-01 seconds\n",
      " Total time in simulation          = 5.3923e+01 seconds\n",
      "   Time in transport only          = 5.2985e+01 seconds\n",
      "   Time in inactive batches        = 9.4846e+00 seconds\n",
      "   Time in active batches          = 4.4439e+01 seconds\n",
      "   Time synchronizing fission bank = 2.6599e-02 seconds\n",
      "     Sampling source sites         = 2.2881e-02 seconds\n",
      "     SEND/RECV source sites        = 3.4080e-03 seconds\n",
      "   Time accumulating tallies       = 8.0793e-01 seconds\n",
      "   Time writing statepoints        = 3.9802e-02 seconds\n",
      " Total time for finalization       = 2.4975e-03 seconds\n",
      " Total time elapsed                = 5.5950e+01 seconds\n",
      " Calculation Rate (inactive)       = 10543.4 particles/second\n",
      " Calculation Rate (active)         = 9001.15 particles/second\n",
      "\n",
      " ============================>     RESULTS     <============================\n",
      "\n",
      " k-effective (Collision)     = 1.16212 +/- 0.00137\n",
      " k-effective (Track-length)  = 1.16226 +/- 0.00202\n",
      " k-effective (Absorption)    = 1.16305 +/- 0.00167\n",
      " Combined k-effective        = 1.16242 +/- 0.00132\n",
      " Leakage Fraction            = 0.00000 +/- 0.00000\n",
      "\n"
     ]
    },
    {
     "data": {
      "text/plain": [
       "PosixPath('/filespace/s/shriwise/ne506/content/openmc/in-class/statepoint.50.h5')"
      ]
     },
     "execution_count": 37,
     "metadata": {},
     "output_type": "execute_result"
    }
   ],
   "source": [
    "model.run()"
   ]
  },
  {
   "cell_type": "code",
   "execution_count": 42,
   "metadata": {},
   "outputs": [
    {
     "name": "stdout",
     "output_type": "stream",
     "text": [
      "[[[9.41093920e+07 9.41858647e+07 9.14974501e+07 4.72430802e-01]]]\n"
     ]
    }
   ],
   "source": [
    "# statepoint = openmc.StatePoint(sp_file)\n",
    "with openmc.StatePoint(sp_file) as statepoint:\n",
    "    # extract tallies here\n",
    "    tally_result = statepoint.tallies[tally.id]\n",
    "\n",
    "# continue work\n",
    "tally_mean = tally_result.mean\n",
    "print(tally_mean)"
   ]
  }
 ],
 "metadata": {
  "kernelspec": {
   "display_name": "Python 3",
   "language": "python",
   "name": "python3"
  },
  "language_info": {
   "codemirror_mode": {
    "name": "ipython",
    "version": 3
   },
   "file_extension": ".py",
   "mimetype": "text/x-python",
   "name": "python",
   "nbconvert_exporter": "python",
   "pygments_lexer": "ipython3",
   "version": "3.9.2"
  }
 },
 "nbformat": 4,
 "nbformat_minor": 2
}
