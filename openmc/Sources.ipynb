{
 "cells": [
  {
   "cell_type": "code",
   "execution_count": 1,
   "metadata": {
    "slideshow": {
     "slide_type": "skip"
    }
   },
   "outputs": [],
   "source": [
    "import openmc\n",
    "import numpy as np\n",
    "from matplotlib import pyplot as plt"
   ]
  },
  {
   "cell_type": "markdown",
   "metadata": {
    "slideshow": {
     "slide_type": "slide"
    }
   },
   "source": [
    "# OpenMC Source Definitions\n",
    "\n",
    "**This material relates almost entirely to fixed-source problems. For eigenvalue sources, please refer to [this section](https://docs.openmc.org/en/stable/methods/eigenvalue.html) of the OpenMC theory guide.**\n",
    "\n",
    "OpenMC provides a number of different external source classifications:\n",
    "\n",
    "\n",
    "- [IndependentSource](https://docs.openmc.org/en/stable/pythonapi/generated/openmc.IndependentSource.html?highlight=sour#openmc-independentsource): a set of independent source distributions in $(\\vec{r}, \\vec{u}, E, t)$\n",
    "- [FileSource](https://docs.openmc.org/en/stable/pythonapi/generated/openmc.FileSource.html#openmc-filesource): a set of source particles stored in an HDF5 file or a Monte Carlo particle list ([MCPL](https://mctools.github.io/mcpl/#:~:text=Welcome%20to%20the%20home%20of,various%20Monte%20Carlo%20simulation%20applications.)) file\n",
    "- [CompiledSource](https://docs.openmc.org/en/stable/pythonapi/generated/openmc.FileSource.html#openmc-filesource): a compiled binary with that complies with a predefined entry point OpenMC uses to source particles from a custom subroutine\n",
    "\n",
    "all of which can be combined together in a single problem if desired. External sources can be included in a `Settings` object by populating the `Settings.sources` attribute with a list (or other Iterable) of source objects.\n",
    "\n",
    "\n",
    "\n"
   ]
  },
  {
   "cell_type": "markdown",
   "metadata": {
    "slideshow": {
     "slide_type": "subslide"
    }
   },
   "source": [
    "## Learning Objectives\n",
    "\n",
    "- Know the necessary birth characteristics of a\n",
    "  source particle\n",
    "- Understand which objects to use for different dimensions of phase space\n",
    "- Determine how and when to use a mixed\n",
    "  independent distribution\n",
    "- Understand how to use the built-in PDF\n",
    "  functions\n",
    "- Define a distribution for the source direction\n",
    "- Use dependent sampling distributions\n"
   ]
  },
  {
   "cell_type": "markdown",
   "metadata": {
    "slideshow": {
     "slide_type": "subslide"
    }
   },
   "source": [
    "To source a partile in Monte Carlo, the following must be known:\n",
    "\n",
    "  - particle type\n",
    "  - position (x, y, z) or $\\vec{r}$\n",
    "  - angle (u, v, w) or $\\vec{u}$\n",
    "  - energy, E\n",
    "  - time, t\n",
    "  - statistical weight, w"
   ]
  },
  {
   "cell_type": "markdown",
   "metadata": {
    "slideshow": {
     "slide_type": "slide"
    }
   },
   "source": [
    "# Independent Sources\n",
    "\n",
    "OpenMC's `IndependentSource` class houses distributions for `space`, `angle`, `energy`, and `time` in a single source object as corresponding attributes of the object. The type of particle source is specified as well.\n"
   ]
  },
  {
   "cell_type": "code",
   "execution_count": 2,
   "metadata": {
    "slideshow": {
     "slide_type": "fragment"
    }
   },
   "outputs": [],
   "source": [
    "source = openmc.IndependentSource()\n",
    "source.space\n",
    "source.angle"
   ]
  },
  {
   "cell_type": "markdown",
   "metadata": {
    "slideshow": {
     "slide_type": "subslide"
    }
   },
   "source": [
    "The **`space` and `angle` entries are multivariate** distributions, requiring sampling in multiple dimensions, while the **`energy` and `time` attributes are univariate** distributions, requiring samples in ony one dimension. A variety of distributions are provided as part of the [`openmc.stats` module](https://docs.openmc.org/en/stable/pythonapi/stats.html):\n",
    "\n",
    "<iframe src=\"https://docs.openmc.org/en/stable/pythonapi/stats.html\" height=800px width=1000px />"
   ]
  },
  {
   "cell_type": "markdown",
   "metadata": {
    "slideshow": {
     "slide_type": "subslide"
    }
   },
   "source": [
    "# Independent Sources: Default Distributions\n",
    "\n",
    "Not all attributes of an `IndependentSource` need to be set. If any are left un-set, the following default distributions will be applied as-needed when the OpenMC simulation is initialized:\n",
    "\n",
    "  - `particle`: neutron\n",
    "  - `space`: Defaults to a point source at the origin\n",
    "  - `angle`: Defaults to an isotrpic distribution\n",
    "  - `energy`: Defaults to a [Watt spectrum](https://docs.openmc.org/en/stable/pythonapi/generated/openmc.stats.Watt.html#openmc-stats-watt) with parameters 0.988 MeV and 2.249 MeV^-1\n",
    "  - `time`: Defaults to a discrete distribution with a single entry, $t=0$.\n",
    "\n",
    "**`IndependentSource` particles are always sourced with a statistical `weight` equal to one.**\n"
   ]
  },
  {
   "cell_type": "markdown",
   "metadata": {
    "slideshow": {
     "slide_type": "subslide"
    }
   },
   "source": [
    "# Independent Sources: Other Attributes\n",
    "Independent sources also allow for definition of the particle type (`IndependentSource.particle`) and source strength. The source strength defines how frequently that source will be sampled relative to others in the model."
   ]
  },
  {
   "cell_type": "code",
   "execution_count": 3,
   "metadata": {
    "slideshow": {
     "slide_type": "fragment"
    }
   },
   "outputs": [],
   "source": [
    "source.strength = 10.0"
   ]
  },
  {
   "cell_type": "markdown",
   "metadata": {
    "slideshow": {
     "slide_type": "slide"
    }
   },
   "source": [
    "# Defining Distributions"
   ]
  },
  {
   "cell_type": "markdown",
   "metadata": {
    "slideshow": {
     "slide_type": "subslide"
    }
   },
   "source": [
    "# Univariate Distributions\n",
    "\n",
    "Many univariate distributions are provided by the `openmc.stats` module. Generally, these can all be sampled directly from the Python object.\n",
    "\n",
    "\n",
    "As discussed above, univariate distributions can be applied directly or the `energy` and `time` distributions of an `IndependentSource`."
   ]
  },
  {
   "cell_type": "code",
   "execution_count": 4,
   "metadata": {
    "slideshow": {
     "slide_type": "fragment"
    }
   },
   "outputs": [
    {
     "data": {
      "text/plain": [
       "array([-8.55541252,  0.2989101 , -6.7929957 , -7.16380941,  1.44894881,\n",
       "       -7.9497386 ,  7.12242549,  6.36585791, -2.20887874, -7.91560333])"
      ]
     },
     "execution_count": 4,
     "metadata": {},
     "output_type": "execute_result"
    }
   ],
   "source": [
    "uniform_dist = openmc.stats.Uniform(-10, 10)\n",
    "uniform_dist.sample(10)"
   ]
  },
  {
   "cell_type": "code",
   "execution_count": 5,
   "metadata": {
    "slideshow": {
     "slide_type": "subslide"
    }
   },
   "outputs": [
    {
     "name": "stdout",
     "output_type": "stream",
     "text": [
      "[ 0.  2.  4.  6.  8. 10.]\n",
      "[0.46558659 0.85150327 0.70158142 0.62941614 0.40561856 0.90638706]\n"
     ]
    },
    {
     "data": {
      "image/png": "[encoded data removed]",
      "text/plain": [
       "<Figure size 640x480 with 1 Axes>"
      ]
     },
     "metadata": {},
     "output_type": "display_data"
    }
   ],
   "source": [
    "x = np.linspace(0, 10, 6)\n",
    "p = np.random.rand(6)\n",
    "print(x)\n",
    "print(p)\n",
    "\n",
    "histogram = openmc.stats.Tabular(x=x, p=p, interpolation='histogram')\n",
    "n_samples = 10_000_000\n",
    "samples = histogram.sample(n_samples)\n",
    "\n",
    "h, bins = np.histogram(samples, bins=x)\n",
    "\n",
    "plt.hist(samples, bins, density=True)\n",
    "plt.show()"
   ]
  },
  {
   "cell_type": "markdown",
   "metadata": {
    "slideshow": {
     "slide_type": "slide"
    }
   },
   "source": [
    "## Multivariate Distributions\n",
    "\n",
    "It is often difficult to describe spatial or angular distributions as a single multivariate function. As a result, the following classes can be used to define multivariate distributions as a combination of univariate distributions:\n",
    "\n",
    "Spatially independent distributions:\n",
    "\n",
    "  - `CartesianIndependent`: indepdendent distributions in x, y, and z\n",
    "  - `CylindricalIndependent`: independent distributions in cylindrical coordinates (r, z, $\\theta$)\n",
    "  - `SphericalIndependent`: independent distributions in spherical coordinates (r, $\\phi$, $\\theta$)\n",
    "\n",
    "Angularly independent distributions:\n",
    "  - `PolarAzimuthal`: independent distributions in $\\phi$ and $\\theta$ with respect to a specified reference vector"
   ]
  },
  {
   "cell_type": "markdown",
   "metadata": {
    "slideshow": {
     "slide_type": "subslide"
    }
   },
   "source": [
    "Example of an independent Cartesian distribution with a line source at $x=1$, $y=4$ from $-1 < z < 1$."
   ]
  },
  {
   "cell_type": "code",
   "execution_count": 6,
   "metadata": {
    "slideshow": {
     "slide_type": "fragment"
    }
   },
   "outputs": [],
   "source": [
    "x_dist = openmc.stats.Discrete(x=[1.0], p=[1.0])\n",
    "y_dist = openmc.stats.Discrete(x=[4.0], p=[1.0])\n",
    "z_dist = openmc.stats.Uniform(-1.0, 1.0)\n",
    "line_source = openmc.stats.CartesianIndependent(x=x_dist,\n",
    "                                                y=y_dist,\n",
    "                                                z=z_dist)"
   ]
  },
  {
   "cell_type": "markdown",
   "metadata": {
    "slideshow": {
     "slide_type": "subslide"
    }
   },
   "source": [
    "Other objects in `openmc.stats` are more constrained or \"fit-for-purpose\". For example, the `openmc.stats.Point` class is designed with point sources in mind. To define a spatial distribution for a point source at $\\vec{r} = (10, -20, 30)$:"
   ]
  },
  {
   "cell_type": "code",
   "execution_count": 7,
   "metadata": {
    "slideshow": {
     "slide_type": "fragment"
    }
   },
   "outputs": [],
   "source": [
    "point = openmc.stats.Point((10, -20, 30))"
   ]
  },
  {
   "cell_type": "markdown",
   "metadata": {
    "slideshow": {
     "slide_type": "slide"
    }
   },
   "source": [
    "## Mixed Univariate Distributions\n",
    "\n",
    "OpenMC allows for combinations of univariate distributions via the `openmc.stats.Mixture` object. This is useful for representing a combination of distributions in the same dimension, as often occurs when modeling emission spectra. Each distribution is sampled with a frequency relative to the others defined by a set of probabilities."
   ]
  },
  {
   "cell_type": "code",
   "execution_count": 8,
   "metadata": {
    "slideshow": {
     "slide_type": "subslide"
    }
   },
   "outputs": [
    {
     "data": {
      "image/png": "[encoded data removed]",
      "text/plain": [
       "<Figure size 640x480 with 1 Axes>"
      ]
     },
     "metadata": {},
     "output_type": "display_data"
    }
   ],
   "source": [
    "normal1 = openmc.stats.Normal(13, 0.5)\n",
    "normal2 = openmc.stats.Normal(17, 0.3)\n",
    "uniform = openmc.stats.Uniform(10.0, 20.0)\n",
    "mixture = openmc.stats.Mixture([0.5, 0.1, 0.4],\n",
    "                               [normal1, normal2, uniform])\n",
    "samples = mixture.sample(100_000)\n",
    "plt.hist(samples, 100)\n",
    "plt.show()"
   ]
  },
  {
   "cell_type": "markdown",
   "metadata": {
    "slideshow": {
     "slide_type": "slide"
    }
   },
   "source": [
    "# File Sources\n",
    "\n",
    "The `FileSource` object provides a reference to a file containing particle source sites that OpenMC will read when sourcing particles for transport. These sources are typically generated from the following sources:\n",
    "\n",
    "  - a fission source from a previous calculation\n",
    "  - a surface source tally\n",
    "\n",
    "These files can be in one of two formats:\n",
    "\n",
    "  - an [OpenMC source file](https://docs.openmc.org/en/stable/io_formats/source.html)\n",
    "  - a Monte Carlo particle lists ([MCPL](https://mctools.github.io/mcpl/#:~:text=Welcome%20to%20the%20home%20of,various%20Monte%20Carlo%20simulation%20applications.)) file\n",
    "\n",
    "A strength can be set on this source as well to determine its sampling frequency relative to other sources."
   ]
  },
  {
   "cell_type": "code",
   "execution_count": 9,
   "metadata": {
    "slideshow": {
     "slide_type": "fragment"
    }
   },
   "outputs": [],
   "source": [
    "file_source = openmc.FileSource('source.h5', strength=10)"
   ]
  },
  {
   "cell_type": "markdown",
   "metadata": {
    "slideshow": {
     "slide_type": "slide"
    }
   },
   "source": [
    "# Compiled Sources\n",
    "\n",
    "OpenMC defines a function signature, `openmc_create_source(std::string parameters)`, when present in a compiled in a [shared library object](https://en.wikipedia.org/wiki/Shared_library#:~:text=A%20shared%20library%20or%20shared,library's%20executable%20code%20in%20memory.) (most commonly a binary `.so` file), can be called to generate a new source for the simulation. Just as the `FileSource` provides a link to a source file, the `CompiledSource` object provides a link to the library containing the subroutine of interest. \n",
    "\n",
    "- A set of parameters to pass to this function can also be set on the object.\n",
    "- A strength can also be set on this source to determine its sampling frequency relative to other sources in the problem.\n",
    "\n",
    "\n",
    "```cpp\n",
    "openmc::Source openmc_create_source(std::string parameters);\n",
    "```\n"
   ]
  },
  {
   "cell_type": "code",
   "execution_count": 10,
   "metadata": {
    "slideshow": {
     "slide_type": "fragment"
    }
   },
   "outputs": [],
   "source": [
    "compiled_source = openmc.CompiledSource('source_library.so',\n",
    "                                        strength=5)"
   ]
  },
  {
   "cell_type": "markdown",
   "metadata": {
    "slideshow": {
     "slide_type": "subslide"
    }
   },
   "source": [
    "\n",
    "This source method provides maximal freedom for generation of source sites, but requires knowledge of C/C++ to use. Below is an example implementation of a `RingSource` using a `CompiledSource`:\n",
    "\n",
    "```cpp\n",
    "#include <cmath> // for M_PI\n",
    "#include <memory> // for unique_ptr\n",
    "\n",
    "#include \"openmc/random_lcg.h\"\n",
    "#include \"openmc/source.h\"\n",
    "#include \"openmc/particle.h\"\n",
    "\n",
    "class RingSource : public openmc::Source\n",
    "{\n",
    "  openmc::SourceSite sample(uint64_t* seed) const\n",
    "  {\n",
    "    openmc::SourceSite particle;\n",
    "    // particle type\n",
    "    particle.particle = openmc::ParticleType::neutron;\n",
    "    // position\n",
    "    double angle = 2.0 * M_PI * openmc::prn(seed);\n",
    "    double radius = 3.0;\n",
    "    particle.r.x = radius * std::cos(angle);\n",
    "    particle.r.y = radius * std::sin(angle);\n",
    "    particle.r.z = 0.0;\n",
    "    // angle\n",
    "    particle.u = {1.0, 0.0, 0.0};\n",
    "    particle.E = 14.08e6;\n",
    "    return particle;\n",
    "  }\n",
    "};\n",
    "\n",
    "// A function to create a unique pointer to an instance of this class when generated\n",
    "// via a plugin call using dlopen/dlsym.\n",
    "// You must have external C linkage here otherwise dlopen will not find the file\n",
    "extern \"C\" std::unique_ptr<RingSource> openmc_create_source(std::string parameters)\n",
    "{\n",
    "  return std::make_unique<RingSource>();\n",
    "}\n",
    "```"
   ]
  },
  {
   "cell_type": "markdown",
   "metadata": {
    "slideshow": {
     "slide_type": "slide"
    }
   },
   "source": [
    "# Strength and Weight Normalization\n",
    "\n",
    "At the end of each batch of particles, OpenMC normalizes tallied results by several factors:\n",
    "\n",
    " - the total statistical weight of source particles for that batch\n",
    " - the sum of source strengths for all external sources (for fixed source problems)\n",
    " - the number of particles executed in the batch\n",
    "\n",
    "As mentioned above, the `IndependentSource` class sources all particles with a weight of one. The `CompiledSource`, and `FileSource` have no such limitation."
   ]
  }
 ],
 "metadata": {
  "celltoolbar": "Slideshow",
  "kernelspec": {
   "display_name": "Python 3",
   "language": "python",
   "name": "python3"
  },
  "language_info": {
   "codemirror_mode": {
    "name": "ipython",
    "version": 3
   },
   "file_extension": ".py",
   "mimetype": "text/x-python",
   "name": "python",
   "nbconvert_exporter": "python",
   "pygments_lexer": "ipython3",
   "version": "3.9.2"
  }
 },
 "nbformat": 4,
 "nbformat_minor": 2
}
