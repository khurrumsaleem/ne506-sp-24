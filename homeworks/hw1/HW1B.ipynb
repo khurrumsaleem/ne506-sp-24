{
 "cells": [
  {
   "cell_type": "markdown",
   "id": "1a9a4bb2-1ad0-416c-a083-96f0610fd0e0",
   "metadata": {},
   "source": [
    "# B. Direct Continuous Sampling\n",
    "\n",
    "An experiment indicates that the probability of a scattering event yielding a particular scattering angle varies as the 4th power of the cosine of the angle as\n",
    "\n",
    "$$ f(\\mu)dμ =A·\\mu4d\\mu$$\n",
    "\n",
    "for -1 < $\\mu$ < 1, and A is a constant. \n",
    "\n",
    "Using the template below, do the following:\n",
    "\n",
    "  - Write a Python function to randomly sample the scattering angle (hint: use the nthroot function in your solution). \n",
    "  - Plot a histogram for 5,000 samples ✅."
   ]
  },
  {
   "cell_type": "code",
   "execution_count": 2,
   "id": "a1e82092-9803-48de-a99d-5031575dc5fc",
   "metadata": {},
   "outputs": [],
   "source": [
    "import numpy as np\n",
    "## Question B: Direct Continuous Sampling\n",
    "#\n",
    "# An experiment indicates that the probability of a scattering event\n",
    "# yielding a particular scattering angle varies as the 4th power of the\n",
    "# cosine of the angle:\n",
    "#\n",
    "# f(u)du =A·u^4du where A is a constant.\n",
    "#\n",
    "# Write a Matlab function to randomly sample the scattering angle.\n",
    "# Plot a histogram for 5,000 samples.\n",
    "#\n",
    "#\n",
    "\n",
    "num_samples = 5000\n",
    "theta = np.zeros(num_samples)\n",
    "\n",
    "# Sample the distribution\n",
    "# f(u)du =A·u^4du where A is a constant.\n",
    "# u = ...\n",
    "# theta = ..."
   ]
  },
  {
   "cell_type": "code",
   "execution_count": 3,
   "id": "2f8fb9eb",
   "metadata": {},
   "outputs": [],
   "source": [
    "from matplotlib import pyplot as plt\n",
    "def plot_histogram(theta, num_bins=50):\n",
    "    plt.hist(theta, num_bins, facecolor='blue', alpha=0.5)\n",
    "    plt.show()"
   ]
  }
 ],
 "metadata": {
  "kernelspec": {
   "display_name": "Python 3",
   "language": "python",
   "name": "python3"
  },
  "language_info": {
   "codemirror_mode": {
    "name": "ipython",
    "version": 3
   },
   "file_extension": ".py",
   "mimetype": "text/x-python",
   "name": "python",
   "nbconvert_exporter": "python",
   "pygments_lexer": "ipython3",
   "version": "3.9.2"
  }
 },
 "nbformat": 4,
 "nbformat_minor": 5
}
