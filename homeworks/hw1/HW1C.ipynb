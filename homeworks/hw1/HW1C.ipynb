{
 "cells": [
  {
   "cell_type": "markdown",
   "id": "a4d81bab-6c7a-4d64-8f6b-47c5a2620540",
   "metadata": {},
   "source": [
    "# C. Rejection Sampling\n",
    "\n",
    "Write a function to sample the energy from a distribution given by\n",
    "\n",
    "$$ g(E) = A E sin^{2}(3\\pi E) $$\n",
    "\n",
    "where 0 ≤ E < 5 MeV and A is a constant. \n",
    "\n",
    "Use 2 different bounding functions (only one of which can be a uniform distribution) and compare the empirical efficiency. Plot a histogram for the samples from each bounding function ✅. \n",
    "\n",
    "If your rejection sampling is done properly, these histograms will match the shape of g(E).\n",
    "\n",
    "**Note: For functions below that return a scalar value, make sure that they return an array of that scalar if a NumPy (or other Iterable) is passed in.**"
   ]
  },
  {
   "cell_type": "code",
   "execution_count": null,
   "id": "sealed-interest",
   "metadata": {},
   "outputs": [],
   "source": [
    "import numpy as np\n",
    "# the PDF function itself\n",
    "def pdf(E):\n",
    "    pass\n",
    "\n",
    "# the first bounding function\n",
    "def bound1(E):\n",
    "    pass\n",
    "\n",
    "def invertBound1(xi):\n",
    "    pass\n",
    "\n",
    "# the second bounding function\n",
    "def bound2(E):\n",
    "    pass\n",
    "\n",
    "def invertBound2(xi):\n",
    "    pass"
   ]
  },
  {
   "cell_type": "code",
   "execution_count": null,
   "id": "annual-brook",
   "metadata": {},
   "outputs": [],
   "source": [
    "# run after filling in the functions above\n",
    "from matplotlib import pyplot as plt\n",
    "\n",
    "E = np.linspace(0, 5, 10000)\n",
    "plt.plot(E, pdf(E), label='True PDF')\n",
    "plt.plot(E, bound1(E), label='Bounding 1')\n",
    "plt.plot(E, bound2(E), label='Bounding 2')\n",
    "plt.legend()\n",
    "plt.show()"
   ]
  },
  {
   "cell_type": "code",
   "execution_count": null,
   "id": "66eb93cb-c9ee-4aeb-9b36-1466847aec39",
   "metadata": {},
   "outputs": [],
   "source": [
    "# use a fixed number of successful samples, numHits\n",
    "# start with a small numHits to develop/test your solution and then\n",
    "# increase it to something large (e.g., 1E6) once it's working\n",
    "numHits = 100\n",
    "numTrials = 0\n",
    "\n",
    "#  do this for one bounding function\n",
    "bound1Samples = np.zeros((numHits,1))\n",
    "hits = 0\n",
    "\n",
    "while hits < numHits:\n",
    "    # generate a random point in the square\n",
    "    numTrials = numTrials + 1\n",
    "\n",
    "    # perform rejection sampling here\n",
    "    # ProTip: good modular code will implement a function to calculate the\n",
    "    #         values of the PDF and/or bounding functions (see functions at\n",
    "    #         bottom of template)\n",
    "    pass\n",
    "\n",
    "print(f'The efficiency of bounding function 1, h(E) = const, is {numHits/numTrials}')\n",
    "\n",
    "\n",
    "# do this for the other bounding function\n",
    "bound2Samples = np.zeros((numHits,1))\n",
    "numTrials = 0\n",
    "hits = 0\n",
    "\n",
    "while hits < numHits:\n",
    "    numTrials = numTrials + 1\n",
    "\n",
    "    # perform rejection sampling here\n",
    "    # ProTip: good modular code will implement a function to calculate the\n",
    "    #         values of the PDF and/or bounding functions (see functions at\n",
    "    #         bottom of template)\n",
    "    pass\n",
    "\n",
    "print(f'The efficiency of bounding function 2, h(E) = E, is {numHits/numTrials}')\n",
    "\n",
    "numBins = 50\n",
    "\n",
    "plot_histogram(bound1Samples, numBins)\n",
    "plot_histogram(bound2Samples, numBins)\n",
    "\n",
    "\n"
   ]
  }
 ],
 "metadata": {
  "kernelspec": {
   "display_name": "Python 3",
   "language": "python",
   "name": "python3"
  },
  "language_info": {
   "codemirror_mode": {
    "name": "ipython",
    "version": 3
   },
   "file_extension": ".py",
   "mimetype": "text/x-python",
   "name": "python",
   "nbconvert_exporter": "python",
   "pygments_lexer": "ipython3",
   "version": "3.9.2"
  }
 },
 "nbformat": 4,
 "nbformat_minor": 5
}
