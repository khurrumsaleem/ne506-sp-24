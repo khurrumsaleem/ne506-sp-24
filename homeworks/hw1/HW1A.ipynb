{
 "cells": [
  {
   "cell_type": "markdown",
   "id": "0d506cc3-30ab-4e76-9aff-4b490b696ef8",
   "metadata": {},
   "source": [
    "# A. Monte Carlo Integration and the Central Limit Theorem\n",
    "\n",
    "Write a Matlab script to estimate the value of $\\pi$ using the graphical approach for data sets of various sizes (N=100; 1,000; 10,000). \n",
    "\n",
    "Using the template code below, do the following for each value of N:\n",
    "\n",
    "  - Generate 5,000 estimates of $\\pi$ (without using the built-in mean()function.)\n",
    "  - Plot a histogram of the 5,000 mean values ✅,\n",
    "  - Calculate the variance of the underlying distribution for each of the 5,000 means (without using the built-in std() function),\n",
    "  - Calculate the standard error in 2 ways: \n",
    "    1. using the mean of the variances of the PDF data and the sample size, and\n",
    "    2. using the variance of the 5,000 mean values. You may use the built-in functions.\n",
    "\n",
    "Note: Be sure to normalize your estimates of the mean and the estimates of the variance consistently.\n",
    "\n",
    "Plot all three histograms on the same axes ✅. Discuss how the shapes of the histograms match your expectations and how they are related to the other quantities you have calculated."
   ]
  },
  {
   "cell_type": "code",
   "execution_count": null,
   "id": "d7e92893-72fa-4e75-98cd-f3975db56b04",
   "metadata": {},
   "outputs": [],
   "source": [
    "import numpy as np\n",
    "## A. Monte Carlo Integration and the Central Limit Theorem\n",
    "#\n",
    "# Write a matlab script to estimate the value of pi using the\n",
    "# graphical approach.\n",
    "#\n",
    "# Generate 5000 estimates of pi using N samples for each estimate,\n",
    "# for values of N=100, N=1000, N=10000.\n",
    "\n",
    "# generate a set of results for each of 100, 1000, 10000 samples\n",
    "N = [100, 1000, 10000]\n",
    "\n",
    "# for each set, sample 5000 times\n",
    "n_estimates = 5000\n",
    "\n",
    "# store the results for the mean values and variances in\n",
    "# arrays with as many rows as estimates and as many columsn as sets\n",
    "means = np.zeros((len(N), n_estimates))\n",
    "variances = np.zeros((len(N), n_estimates))\n",
    "\n",
    "for i, n_samples in enumerate(N):\n",
    "\n",
    "    for j in range(n_estimates):\n",
    "        # generate a random set of points in the unit square\n",
    "        # and count the number of points that are inside the unit circle\n",
    "\n",
    "        # compute the mean and variance of the estimates\n",
    "\n",
    "    # means[i, j] = ...\n",
    "    # variances[i, j] = ...\n",
    "\n",
    "    pass"
   ]
  },
  {
   "cell_type": "code",
   "execution_count": null,
   "id": "b6da5897",
   "metadata": {},
   "outputs": [],
   "source": [
    "from matplotlib import pyplot as plt\n",
    "# hist3 function is a convenient function defined below to plot 3 sets of\n",
    "# data as histograms on the same plot\n",
    "\n",
    "# This example assumes that you have a set of estimates of the mean, in 3\n",
    "# columns with each column corresponding to 100, 1000, and 10000 samples\n",
    "# per estimate, respectively\n",
    "def hist3(data1, label1, data2, label2, data3, label3, num_bins=50, title=''):\n",
    "    plt.hist(data1, bins=num_bins, alpha=0.5, label=label1)\n",
    "    plt.hist(data2, bins=num_bins, alpha=0.5, label=label2)\n",
    "    plt.hist(data3, bins=num_bins, alpha=0.5, label=label3)\n",
    "    plt.legend(loc='upper right')\n",
    "    plt.title(title)\n",
    "    plt.show()"
   ]
  }
 ],
 "metadata": {
  "kernelspec": {
   "display_name": "Python 3",
   "language": "python",
   "name": "python3"
  },
  "language_info": {
   "codemirror_mode": {
    "name": "ipython",
    "version": 3
   },
   "file_extension": ".py",
   "mimetype": "text/x-python",
   "name": "python",
   "nbconvert_exporter": "python",
   "pygments_lexer": "ipython3",
   "version": "3.9.2"
  }
 },
 "nbformat": 4,
 "nbformat_minor": 5
}
